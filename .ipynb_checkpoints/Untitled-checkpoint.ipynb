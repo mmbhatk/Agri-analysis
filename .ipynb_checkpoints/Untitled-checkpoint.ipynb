{
 "cells": [
  {
   "cell_type": "code",
   "execution_count": 1,
   "metadata": {},
   "outputs": [],
   "source": [
    "#Import the required libraries and dataset\n",
    "import pandas as pd\n",
    "import matplotlib.pyplot as plt\n",
    "import numpy as np\n",
    "import warnings\n",
    "warnings.filterwarnings('ignore')\n",
    "\n",
    "df = pd.read_csv('agridata.csv')"
   ]
  },
  {
   "cell_type": "code",
   "execution_count": 2,
   "metadata": {},
   "outputs": [
    {
     "name": "stdout",
     "output_type": "stream",
     "text": [
      "Index(['state', 'district', 'crop', 'year', 'season', 'area', 'production',\n",
      "       'yield'],\n",
      "      dtype='object')\n"
     ]
    }
   ],
   "source": [
    "#Printing columns in the dataframe\n",
    "ls = df.columns\n",
    "print(ls)"
   ]
  },
  {
   "cell_type": "code",
   "execution_count": 3,
   "metadata": {},
   "outputs": [
    {
     "name": "stdout",
     "output_type": "stream",
     "text": [
      "175628\n"
     ]
    }
   ],
   "source": [
    "#Number of records in the dataset\n",
    "print(len(df))"
   ]
  },
  {
   "cell_type": "code",
   "execution_count": 4,
   "metadata": {
    "scrolled": true
   },
   "outputs": [
    {
     "name": "stdout",
     "output_type": "stream",
     "text": [
      "state            0\n",
      "district         0\n",
      "crop             0\n",
      "year             1\n",
      "season           0\n",
      "area             4\n",
      "production    2559\n",
      "yield         2559\n",
      "dtype: int64\n"
     ]
    }
   ],
   "source": [
    "#Identify the columns containing missing values\n",
    "print(df.isnull().sum())"
   ]
  },
  {
   "cell_type": "code",
   "execution_count": 5,
   "metadata": {},
   "outputs": [
    {
     "name": "stdout",
     "output_type": "stream",
     "text": [
      "2559\n"
     ]
    }
   ],
   "source": [
    "#Number of records with null values for production and yield fields\n",
    "mask = (df['yield'].isnull()) & (df['production'].isnull())\n",
    "print(len(df[mask]))"
   ]
  },
  {
   "cell_type": "code",
   "execution_count": 6,
   "metadata": {},
   "outputs": [
    {
     "name": "stdout",
     "output_type": "stream",
     "text": [
      "2560\n"
     ]
    }
   ],
   "source": [
    "#Number of records with null values for at least one attribute\n",
    "mask2 = sum(df.apply(lambda x: sum(x.isnull().values), axis = 1)>0)\n",
    "print(mask2)"
   ]
  },
  {
   "cell_type": "code",
   "execution_count": 7,
   "metadata": {},
   "outputs": [
    {
     "name": "stdout",
     "output_type": "stream",
     "text": [
      "1.0003907776475185\n"
     ]
    }
   ],
   "source": [
    "#Percentage of records which have null values\n",
    "print(mask2/len(df[mask]))"
   ]
  },
  {
   "cell_type": "markdown",
   "metadata": {},
   "source": [
    "We observe that the 'production' and 'yield' columns of 2559 records, 'year' of 1 record and 'area' of 4 records have null values. When further notice that all the records which have null values for 'production' also have null values for 'yield'. Hence there is a possibility that yield and production columns are correlated.\n",
    "\n",
    "The records having missing values approximately account for only 1% of the total number of records. Therefore, in this situation, we conclude it is better to remove the null values."
   ]
  },
  {
   "cell_type": "code",
   "execution_count": 8,
   "metadata": {
    "scrolled": true
   },
   "outputs": [
    {
     "name": "stdout",
     "output_type": "stream",
     "text": [
      "state         0\n",
      "district      0\n",
      "crop          0\n",
      "year          0\n",
      "season        0\n",
      "area          0\n",
      "production    0\n",
      "yield         0\n",
      "dtype: int64\n"
     ]
    }
   ],
   "source": [
    "#After removing missing values\n",
    "df.dropna(axis='rows', inplace = True)\n",
    "print(df.isnull().sum())"
   ]
  },
  {
   "cell_type": "code",
   "execution_count": 9,
   "metadata": {},
   "outputs": [
    {
     "name": "stdout",
     "output_type": "stream",
     "text": [
      "-------------------------\n",
      "state\n",
      "['ANDHRA PRADESH' 'ASSAM' 'BIHAR' 'CHHATTISGARH' 'GUJARAT' 'HARYANA'\n",
      " 'HIMACHAL PRADESH' 'JAMMU & KASHMIR' 'JHARKHAND' 'KARNATAKA' 'KERALA'\n",
      " 'MADHYA PRADESH' 'MAHARASHTRA' 'ORISSA' 'PUNJAB' 'RAJASTHAN' 'TAMIL NADU'\n",
      " 'UTTAR PRADESH' 'UTTARANCHAL' 'WEST BENGAL' 'SIKKIM' 'TRIPURA'\n",
      " 'A & N ISLANDS' 'CHANDIGARH' 'D & N HAVELI' 'ARUNACHAL PRADESH' 'DELHI'\n",
      " 'NAGALAND' 'PONDICHERRY' 'MEGHALYA' 'MANIPUR' 'MIZORAM' 'GOA']\n",
      "-------------------------\n",
      "district\n",
      "['ADILABAD' 'ANANTPUR' 'CHITTOOR' 'CUDDAPAH' 'EAST GODAVARI' 'GUNTUR'\n",
      " 'HYDERABAD' 'KARIMNAGAR' 'KHAMMAM' 'KRISHNA' 'KURNOOL' 'MAHABOOBNAGAR'\n",
      " 'MEDAK' 'NALGONDA' 'NELLORE' 'NIZAMABAD' 'PRAKASAM' 'RANGAREDDY'\n",
      " 'SRIKAKULAM' 'VISAKHAPATNAM' 'VIZIANAGARM' 'WARANGAL' 'WEST GODAVARI'\n",
      " 'BARPETA' 'BASKA' 'BONGAIGAON' 'CACHAR' 'CHIRANG' 'DARRANG' 'DHEMAJI'\n",
      " 'DHUBRI' 'DIBRUGARH' 'GOALPARA' 'GOLAGHAT' 'HAILAKANDI' 'JORHAT' 'KAMRUP'\n",
      " 'KAMRUP (M)' 'KARBI-ANGLONG' 'KARIMGANJ' 'KOKRAJHAR' 'LAKHIMPUR'\n",
      " 'MORIGON' 'N C HILLS' 'NAGAON' 'NALBARI' 'SIBSAGAR' 'SONITPUR' 'TINSUKIA'\n",
      " 'UDALGURI' 'NEW LAKHIMPUR' 'ARARIA' 'ARHASIA' 'ARVAL' 'AURANGABAD'\n",
      " 'BAGHALPUR' 'BANKA' 'BEGUSARAI' 'BHABHA' 'BHANKA' 'BHOJPUR' 'BOKARO'\n",
      " 'BUXAR' 'CHAMPARAN(EAST)' 'CHAMPARAN(WEST)' 'CHUTRA' 'DARBHANGA'\n",
      " 'DEVGHAR' 'DHANBAD' 'DUMKA' 'GADHWA' 'GAYA' 'GIRIDIH' 'GODDA' 'GOPALGANJ'\n",
      " 'GUMALA' 'HAZARIBAGH' 'JAHANABAD' 'JAMUI' 'KATIHAR' 'KHAGARIA'\n",
      " 'KISHANGANJ' 'KODRAMA' 'LAKHISARIA' 'LOHARDANGA' 'MADHUBANI' 'MADHUPURA'\n",
      " 'MONGHYR' 'MUZAFFARPUR' 'NALANDA' 'NAWADHA' 'PAKUR' 'PALAMAU' 'PATNA'\n",
      " 'PURNIA' 'RANCHI' 'ROHTAS' 'SAHARSA' 'SAHEBGANJ' 'SAMASTIPUR' 'SARAN'\n",
      " 'SHIVHAR' 'SHKHPURA' 'SINGHBHUM' 'SINGHBHUR(WEST)' 'SITAMARHI' 'SIWAN'\n",
      " 'SUMAL' 'SUPAUL' 'VAISHALI' 'ZAMUI' 'ORANGABAD' 'BASTAR' 'BILASPUR'\n",
      " 'DANTEWARA' 'DHAMTARI' 'DURG' 'JANJGIR-CHAMPA' 'JASHPUR' 'KANKER'\n",
      " 'KAWARDHA (KABIRDHAM)' 'KORBA' 'KORIYA' 'MAHASMUND' 'RAIGARH' 'RAIPUR'\n",
      " 'RAJ NANDGAON' 'SARGUJA' 'AHMEDABAD' 'AMRELI' 'ANAND' 'BHAVNAGAR'\n",
      " 'BROACH' 'DANGS' 'DOHAD' 'GANDHINAGAR' 'JUNAGARH' 'KHEDA' 'MEHSANA'\n",
      " 'NARMADA' 'NAVSARI' 'PANCH MAHALS' 'SABARKANTHA' 'SURAT' 'SURENDRANAGAR'\n",
      " 'TAPI' 'VADODARA' 'VALSAD' 'BANAS KANTHA' 'JAMNAGAR' 'KUTCH' 'PATAN'\n",
      " 'PORBANDAR' 'RAJKOT' 'BULSAR' 'AMBALA' 'BHIWANI' 'FARIDABAD' 'FATEHABAD'\n",
      " 'GURGAON' 'HISSAR' 'JHAJJAR' 'JIND' 'KAITHAL' 'KARNAL' 'KURKSHETRA'\n",
      " 'MEWAT' 'PALWAL' 'PANCHKULA' 'PANIPAT' 'REWARI' 'ROHTAK' 'SIRSA'\n",
      " 'SONEPAT' 'YAMUNA NAGAR' 'MAHENDRA GARH' 'CHAMBA' 'HAMIRPUR' 'KANGRA'\n",
      " 'KINNAUR' 'KULU' 'MANDI' 'SIMLA' 'SIRMAUR' 'SOLAN' 'UNA' 'LAHAUL & SPITI'\n",
      " 'ANANTNAGH' 'BARAMULLA' 'BUDGAM' 'DODA' 'JAMMU' 'KATHUA' 'KUPWARA'\n",
      " 'POONCH' 'PULWANNA' 'RAJOURI' 'SRINAGAR' 'UDHAMPUR' 'KARGIL' 'LEH'\n",
      " 'CHATRA' 'DEOGHAR' 'EAST SINGHBHUM' 'GARHWA' 'GUMLA' 'HAZAIBAG' 'JAMTARA'\n",
      " 'KODERMA' 'LATEHAR' 'LOHARDAGA' 'PALAMU' 'SAHIBGANJ' 'SERAIKELA'\n",
      " 'SIMDEGA' 'WEST SINGHBHUM' 'BAGALKOT' 'BANGALORE (RURAL)'\n",
      " 'BANGALORE (URBAN)' 'BELGAUM' 'BELLARY' 'BIDAR' 'BIJAPUR'\n",
      " 'CHAMARAJANNAGAR' 'CHICKBALLAPUR' 'CHIKMAGALUR' 'CHITRADURGA'\n",
      " 'DAKSHINAKANNADA' 'DAVANGERE' 'DHARWAD' 'GADAG' 'GULBARGA' 'HASSAN'\n",
      " 'HAVERI' 'KODAGU(COORG)' 'KOLAR' 'KOPPAL' 'MANDYA' 'MYSORE' 'RAICHUR'\n",
      " 'RAMANAGAR' 'SHIMOGA' 'TUMKUR' 'UDUPI' 'UTTARAKANNADA' 'ALAPPUZHA'\n",
      " 'ERNAKULAM' 'IDUKKI' 'KANNUR' 'KASARGOD' 'KOLLAM' 'KOTTAYAM' 'KOZHIKODE'\n",
      " 'MALAPPURAM' 'PALAKKAD' 'PATHANAMTHITTA' 'QUILON' 'THRISSUR' 'TRIVANDRUM'\n",
      " 'WYNAD' 'ANUPPUR' 'ASHOK NAGAR' 'BALAGHAT' 'BARWANI' 'BETUL' 'BHIND'\n",
      " 'BHOPAL' 'BURHANPUR' 'CHHATARPUR' 'CHINDWARA' 'DAMOH' 'DANTEWADA' 'DATIA'\n",
      " 'DEWAS' 'DHAMANTARI' 'DHAR' 'DINDORI' 'GUNA' 'GWALIOR' 'HARDA'\n",
      " 'HOSHANGABAD' 'INDORE' 'JABALPUR' 'JANGIR' 'JHABUA' 'JUSHPUR' 'KANKAR'\n",
      " 'KATNI' 'KHANDWA' 'KHARGAON' 'KWARDHA' 'MAHASUMUNDRA' 'MANDLA' 'MANDSAUR'\n",
      " 'MORENA' 'NARSIMPUR' 'NEEMACH' 'PANNA' 'RAISEN' 'RAJGARH' 'RAJNANDGAON'\n",
      " 'RATLAM' 'REWA' 'SAGAR' 'SATNA' 'SEHORE' 'SEONI' 'SHAHDOL' 'SHAJAPUR'\n",
      " 'SHEOPUR KALA' 'SHIVPURI' 'SIDHI' 'TIKAMGARH' 'UJJAIN' 'UMARIA' 'VIDISHA'\n",
      " 'AHMEDNAGAR' 'AKOLA' 'AMRAVATI' 'BEED' 'BHANDARA' 'BULDHANA' 'CHANDRAPUR'\n",
      " 'DHULE' 'GADCHIROLI' 'GONDIA' 'HINGOLI' 'JALANA' 'JALGAON' 'KOLHAPUR'\n",
      " 'LATUR' 'MANDURBAR' 'NAGPUR' 'NANDED' 'NASIK' 'OSMANABAD' 'PARBHANI'\n",
      " 'PUNE' 'RAIGAD' 'RATNAGIRI' 'SANGLI' 'SATARA' 'SINDHUDURG' 'SOLAPUR'\n",
      " 'THANE' 'WARDHA' 'WASHIM' 'YAVATMAL' 'ANGUL' 'BALASORE' 'BHADRAK'\n",
      " 'BOLANGIR' 'BOUDH' 'BURAGARH' 'CUTTACK' 'DEOGARH' 'DHENKANAL' 'GAJAPATTI'\n",
      " 'GANJAM' 'JAGATSINGPUR' 'JAJPUR' 'JHARSUGDA' 'KALAHANDI' 'KANDHAMAL'\n",
      " 'KEDRAPARA' 'KEONJHAR' 'KHURDA' 'KORAPUT' 'MALKANGIRI' 'MAYURBHANJ'\n",
      " 'NAWAPARA' 'NAWORANGPUR' 'NAYAGARH' 'PHULBANI' 'PURI' 'RAYAGADA'\n",
      " 'SAMBALPUR' 'SONEPUR' 'SUNDARGARH' 'AMRITSAR' 'BHATINDA' 'FARIDKOT'\n",
      " 'FATEHGARH SAHIB' 'FIROZPUR' 'GURDASPUR' 'HOSHIARPUR' 'JALANDHAR'\n",
      " 'KAPURTHALA' 'LUDHIANA' 'MANSHA' 'MOGA' 'MUKATSAR' 'N.SHAHAR' 'PATIALA'\n",
      " 'ROPAR(RUPNAGAR)' 'SANGRUR' 'AJMER' 'ALWAR' 'BANSWARA' 'BAREN'\n",
      " 'BHARATPUR' 'BHILWARA' 'BIKANER' 'BUNDI' 'CHITTOR GARH' 'DAUSA' 'DHOLPUR'\n",
      " 'DUNGARPUR' 'GANGANAGAR' 'HANUMANGARH' 'JAIPUR' 'JHALAWAR' 'JHUNJHUNU'\n",
      " 'JODHPUR' 'KARAULI' 'KOTA' 'PALI' 'RAJSAMAND' 'SAWAI MADHOPUR' 'SIROHI'\n",
      " 'TONK' 'UDAIPUR' 'BARMER' 'CHURU' 'JAISALMER' 'JALORE' 'NAGAUR' 'SIKAR'\n",
      " 'ARIYALUR' 'COIMBATORE' 'CUDDALORE' 'DHARMAPURI' 'DIDUGUL' 'ERODE'\n",
      " 'KANCHEEPURAM' 'KANYA KUMARI' 'KARUR' 'KRISHNAGIRI' 'MADURAI'\n",
      " 'NAGAPATTINAM' 'NAMAKKAL' 'PERAMBALUR' 'PUDUKKOTTAI' 'RAMANATHAPURAM'\n",
      " 'SALEM' 'SIVAGANGAI' 'THANJAVUR' 'THE NILGIRIS' 'THENI' 'THIRUPPUR'\n",
      " 'THIRUVALLUR' 'THIRUVARUR' 'THOOTHUKUDI' 'TIRUCHIRAPALLI' 'TIRUNELVELI'\n",
      " 'TIRUVANNMALAI' 'VELLORE' 'VILLUPURAM' 'VIRUDUNAGAR' 'AGRA' 'ALIGARH'\n",
      " 'ALLAHABAD' 'ALMORAH' 'AMBEDKAR NGR.'\n",
      " 'AMETHI (CHHATRAPTI SAHUJI MAHARAJ NGR)' 'AMROHA (J.B.PHULE NGR.)'\n",
      " 'AURAIYA' 'AZAMGARH' 'BADAUN' 'BAGESHWAR' 'BAGPAT' 'BAHRAICH' 'BALLIA'\n",
      " 'BALRAMPUR' 'BANDA' 'BARABANKI' 'BAREILLY' 'BASTI' 'BIJNOR'\n",
      " 'BULLANDSHAHR' 'CHAMOLI' 'CHAMPAVAT' 'CHANDAULI' 'CHITRAKUT' 'DEHRADUN'\n",
      " 'DEORIA' 'ETAH' 'ETAWAH' 'FAIZABAD' 'FARRUKHABAD' 'FATEHPUR' 'FIROZABAD'\n",
      " 'G.BUDDHA NGR.' 'GARHWAL' 'GHAZIABAD' 'GHAZIPUR' 'GONDA' 'GORAKHPUR'\n",
      " 'HARDOI' 'HARIDWAR' 'JALAUN' 'JAUNPUR' 'JHANSI' 'KANNAUJ' 'KANPUR CITY'\n",
      " 'KANPUR DEHAT' 'KASGANJ (KASHIRAM NAGAR)' 'KAUSHAMBI' 'KHERI'\n",
      " 'KUSHI NGR.' 'LALITPUR' 'LUCKNOW' 'MAHAMAYA NAGAR' 'MAHARAHGANJ' 'MAHOBA'\n",
      " 'MAINPURI' 'MATHURA' 'MAU' 'MEERUT' 'MIRZAPUR' 'MORADABAD'\n",
      " 'MUZAFFARNAGAR' 'NAINITAL' 'PILIBHIT' 'PITHORAGARH' 'PRATAPGARH'\n",
      " 'RAEBARELI' 'RAMABAI NAGAR' 'RAMPUR' 'RUDRA PRAYAG' 'S.RAVI DAS NGR.'\n",
      " 'SAHARANPUR' 'SANT KABIR NGR.' 'SHAHJAHANPUR' 'SHIVASTI' 'SIDDHARTH NGR.'\n",
      " 'SITAPUR' 'SONBHADRA' 'SULTANPUR' 'TEHRIGARHWAL' 'U.S.NAGAR' 'UNNAO'\n",
      " 'UTTAR KASHI' 'VARANASI' 'ALMORA' 'CHAMPAWAT' 'DEHARDUN' 'PAURI GARHWAL'\n",
      " 'RUDRAPRAYAG' 'TEHRI GARWAL' 'UDHAM SINGH NAGAR' 'UTTARKASHI'\n",
      " '24 PARGANAS (NORTH)' '24 PARGANAS (SOUTH)' 'BANKURA' 'BIRBHUM' 'BURDWAN'\n",
      " 'COOCH-BEHAR' 'DARJEELING' 'DINAJPUR(SOUTH)' 'DINAJUR(NORTH)' 'HOOGHLY'\n",
      " 'HOWRAH' 'JALPAIGURI' 'MALDA' 'MIDNAPUR ( EAST)' 'MIDNAPUR (WEST)'\n",
      " 'MURSHIDABAD' 'NADIA' 'PURULIA' 'WEST DINAJPUR' 'EAST' 'NORTH' 'SOUTH'\n",
      " 'WEST' 'Dhalai' 'North (Tripura)' 'South (Tripura)' 'West (Tripura)'\n",
      " 'A & N ISLANDS' 'ANDAMAN' 'NICOBAR' 'NORTH AND MIDDLE ANDAMAN'\n",
      " 'SOUTH ANDAMAN' 'CHANDIGARH' 'DADRA & NAGAR HAVELI' 'ANJAW' 'CHANGLANG'\n",
      " 'D/VALLEY' 'E/KAMENG' 'E/SIANG' 'KURUNG KAMEY' 'L/SUBABSIRI' 'LOHIT'\n",
      " 'LOWER DIBANG VALLEY' 'PAPUMPARE' 'TAWANG' 'TIRAP' 'U/SIANG'\n",
      " 'U/SUBANSIRI' 'W/KAMENG' 'W/SIANG' 'DELHI' 'DIMAPUR' 'KOHIMA'\n",
      " 'MOKOKCHUNG' 'MON' 'PHEK' 'TUENSANG' 'WOKHA' 'ZUNHEBOTO' 'NAGALAND'\n",
      " 'KARAIKAL' 'MAHE' 'PONDYCHERRY (DIST)' 'YANAM' 'EAST GARO HILLS'\n",
      " 'EAST KHASI HILLS' 'JAINTA HILLS' 'RI BHOI' 'SOUTH GARO HILLS'\n",
      " 'WEST GARO HILLS' 'WEST KHASI HILLS' 'BISHNUPUR' 'CHANDEL'\n",
      " 'CHURACHANDPUR' 'IMPHAL EAST' 'IMPHAL WEST' 'SENAPATI' 'TAMENGLONG'\n",
      " 'THOUBAL' 'UKHRUL' 'MANIPUR' 'AIZWAL' 'CHHIMTUIPUI' 'EAST AIZAWL'\n",
      " 'KOLASIB' 'LAWNGTLAI' 'LUNGLEI' 'MAMIT' 'SAIHA' 'SERCHHIP' 'WEST AIZAWL'\n",
      " 'Goa' 'GOA NORTH' 'GOA SOUTH']\n",
      "-------------------------\n",
      "crop\n",
      "['Rice' 'Wheat' 'Jowar' 'Bajra' 'Maize' 'Ragi' 'Small millets' 'Gram'\n",
      " 'Arhar (Tur)' 'Urad' 'Moong' 'Masoor' 'HorseGram' 'Other Kharif Pulses'\n",
      " 'Other Rabi Pulses' 'Groundnut' 'Sesamum' 'Rapeseed &Mustard' 'Linseed'\n",
      " 'Castor seed' 'Safflower' 'Niger seed' 'Coconut' 'Sunflower' 'Soyabean'\n",
      " 'Cotton(lint)' 'Mesta' 'Dry chillies' 'Dry ginger' 'Turmeric' 'Arecanut'\n",
      " 'Coriander' 'Potato' 'Tapioca' 'Garlic' 'Sweet potato' 'Banana' 'Onion'\n",
      " 'Cashewnut' 'Sugarcane' 'Tobacco' 'Peas & Beans (Pulses)' 'Jute'\n",
      " 'Black pepper' 'Barley' 'Kesari' 'Sannhamp' 'Moth' 'Guar seed' 'Cardamom']\n",
      "-------------------------\n",
      "year\n",
      "['1998-99' '1999-00' '2000-01' '2001-02' '2002-03' '2003-04' '2004-05'\n",
      " '2005-06' '2006-07' '2007-08' '2008-09' '2009-10' '2010-11' '2011-12'\n",
      " '2012-13' 'Year']\n",
      "-------------------------\n",
      "season\n"
     ]
    },
    {
     "name": "stdout",
     "output_type": "stream",
     "text": [
      "['Kharif' 'Rabi' 'Whole year' 'Autumn' 'Winter' 'Summer']\n",
      "-------------------------\n",
      "area\n",
      "[66400. 12200. 66388. ... 40508. 14912. 15020.]\n",
      "-------------------------\n",
      "production\n",
      "[152300.  33500. 162451. ...  41912.  43269.  41766.]\n",
      "-------------------------\n",
      "yield\n",
      "[ 2.2936747   2.74590164  2.44699343 ... 48.17471264 49.39383562\n",
      " 51.56296296]\n"
     ]
    }
   ],
   "source": [
    "#Print the values taken by each of the columns\n",
    "for col in ls:\n",
    "    print(\"-------------------------\")\n",
    "    print(col)\n",
    "    print(df[col].unique())"
   ]
  },
  {
   "cell_type": "code",
   "execution_count": 10,
   "metadata": {
    "scrolled": true
   },
   "outputs": [
    {
     "name": "stdout",
     "output_type": "stream",
     "text": [
      "                state district       crop  year      season    area  \\\n",
      "101842         ORISSA  KORAPUT       Ragi  Year      Summer     9.0   \n",
      "154039  UTTAR PRADESH   ETAWAH  Sugarcane  Year  Whole year  1103.0   \n",
      "\n",
      "        production      yield  \n",
      "101842         6.6   0.733333  \n",
      "154039     56665.0  51.373527  \n",
      "\n",
      "\n",
      "Number of columns with Year as value for year attribute: 2\n"
     ]
    }
   ],
   "source": [
    "#Identifying rows which have Year as the value under 'year' column\n",
    "print(df[df['year']=='Year'])\n",
    "print(\"\\n\\nNumber of columns with Year as value for year attribute: \" + str(len(df[df['year']=='Year'])))"
   ]
  },
  {
   "cell_type": "code",
   "execution_count": 11,
   "metadata": {},
   "outputs": [
    {
     "name": "stdout",
     "output_type": "stream",
     "text": [
      "                state district       crop  year      season    area  \\\n",
      "101842         ORISSA  KORAPUT       Ragi  Year      Summer     9.0   \n",
      "154039  UTTAR PRADESH   ETAWAH  Sugarcane  Year  Whole year  1103.0   \n",
      "\n",
      "        production      yield  \n",
      "101842         6.6   0.733333  \n",
      "154039     56665.0  51.373527  \n",
      "\n",
      "\n",
      "After removing the rows where year is Year, all possible values taken by 'year': \n",
      "['1998-99' '1999-00' '2000-01' '2001-02' '2002-03' '2003-04' '2004-05'\n",
      " '2005-06' '2006-07' '2007-08' '2008-09' '2009-10' '2010-11' '2011-12'\n",
      " '2012-13']\n"
     ]
    }
   ],
   "source": [
    "#Removing the rows which have Year as the value under 'year' column\n",
    "print(df[df['year']=='Year'])\n",
    "df = df[df['year']!='Year']\n",
    "print(\"\\n\\nAfter removing the rows where year is Year, all possible values taken by 'year': \")\n",
    "print(df['year'].unique())"
   ]
  },
  {
   "cell_type": "code",
   "execution_count": 12,
   "metadata": {},
   "outputs": [
    {
     "name": "stdout",
     "output_type": "stream",
     "text": [
      "173066\n"
     ]
    }
   ],
   "source": [
    "#Number of records in the dataset\n",
    "print(len(df))"
   ]
  },
  {
   "cell_type": "code",
   "execution_count": 13,
   "metadata": {},
   "outputs": [
    {
     "name": "stdout",
     "output_type": "stream",
     "text": [
      "\n",
      "Data types of all the columns: \n",
      "state          object\n",
      "district       object\n",
      "crop           object\n",
      "year           object\n",
      "season         object\n",
      "area          float64\n",
      "production    float64\n",
      "yield         float64\n",
      "dtype: object\n"
     ]
    }
   ],
   "source": [
    "#Data tyoes of all the columns\n",
    "print(\"\\nData types of all the columns: \")\n",
    "print(df.dtypes)"
   ]
  },
  {
   "cell_type": "code",
   "execution_count": 14,
   "metadata": {
    "scrolled": true
   },
   "outputs": [
    {
     "name": "stdout",
     "output_type": "stream",
     "text": [
      "            state  district  crop     year  season     area  production  \\\n",
      "0  ANDHRA PRADESH  ADILABAD  Rice  1998-99  Kharif  66400.0    152300.0   \n",
      "1  ANDHRA PRADESH  ADILABAD  Rice  1998-99    Rabi  12200.0     33500.0   \n",
      "2  ANDHRA PRADESH  ADILABAD  Rice  1999-00  Kharif  66388.0    162451.0   \n",
      "3  ANDHRA PRADESH  ADILABAD  Rice  1999-00    Rabi  10980.0     26616.0   \n",
      "4  ANDHRA PRADESH  ADILABAD  Rice  2000-01  Kharif  70645.0    146235.0   \n",
      "5  ANDHRA PRADESH  ADILABAD  Rice  2000-01    Rabi   6828.0     21023.0   \n",
      "6  ANDHRA PRADESH  ADILABAD  Rice  2001-02  Kharif  67358.0    150343.0   \n",
      "7  ANDHRA PRADESH  ADILABAD  Rice  2001-02    Rabi   9786.0     23398.0   \n",
      "8  ANDHRA PRADESH  ADILABAD  Rice  2002-03  Kharif  71657.0    110710.0   \n",
      "9  ANDHRA PRADESH  ADILABAD  Rice  2002-03    Rabi   5137.0     11188.0   \n",
      "\n",
      "      yield  \n",
      "0  2.293675  \n",
      "1  2.745902  \n",
      "2  2.446993  \n",
      "3  2.424044  \n",
      "4  2.069998  \n",
      "5  3.078940  \n",
      "6  2.231999  \n",
      "7  2.390967  \n",
      "8  1.544999  \n",
      "9  2.177925  \n"
     ]
    }
   ],
   "source": [
    "#Analzing the first 10 rows of the dataset\n",
    "print(df.head(10))"
   ]
  },
  {
   "cell_type": "code",
   "execution_count": 15,
   "metadata": {
    "scrolled": true
   },
   "outputs": [
    {
     "name": "stdout",
     "output_type": "stream",
     "text": [
      "Converting years from range form: \n",
      "0    1998\n",
      "1    1998\n",
      "2    1999\n",
      "3    1999\n",
      "4    2000\n",
      "Name: year, dtype: int64\n"
     ]
    }
   ],
   "source": [
    "#Converting years from range form\n",
    "df['year'] = df['year'].str[:-3]\n",
    "print(\"Converting years from range form: \")\n",
    "df['year'] = pd.to_numeric(df['year']).astype(int)\n",
    "print(df['year'].head())"
   ]
  },
  {
   "cell_type": "code",
   "execution_count": 16,
   "metadata": {},
   "outputs": [
    {
     "name": "stdout",
     "output_type": "stream",
     "text": [
      "            state  district  crop  year  season     area  production     yield\n",
      "0  ANDHRA PRADESH  ADILABAD  Rice  1998  Kharif  66400.0    152300.0  2.293675\n",
      "1  ANDHRA PRADESH  ADILABAD  Rice  1998    Rabi  12200.0     33500.0  2.745902\n",
      "2  ANDHRA PRADESH  ADILABAD  Rice  1999  Kharif  66388.0    162451.0  2.446993\n",
      "3  ANDHRA PRADESH  ADILABAD  Rice  1999    Rabi  10980.0     26616.0  2.424044\n",
      "4  ANDHRA PRADESH  ADILABAD  Rice  2000  Kharif  70645.0    146235.0  2.069998\n",
      "5  ANDHRA PRADESH  ADILABAD  Rice  2000    Rabi   6828.0     21023.0  3.078940\n",
      "6  ANDHRA PRADESH  ADILABAD  Rice  2001  Kharif  67358.0    150343.0  2.231999\n",
      "7  ANDHRA PRADESH  ADILABAD  Rice  2001    Rabi   9786.0     23398.0  2.390967\n",
      "8  ANDHRA PRADESH  ADILABAD  Rice  2002  Kharif  71657.0    110710.0  1.544999\n",
      "9  ANDHRA PRADESH  ADILABAD  Rice  2002    Rabi   5137.0     11188.0  2.177925\n"
     ]
    }
   ],
   "source": [
    "#Analyzing the first 10 rows of the dataset\n",
    "print(df.head(10))"
   ]
  },
  {
   "cell_type": "markdown",
   "metadata": {},
   "source": [
    "# Summary statistics of data"
   ]
  },
  {
   "cell_type": "markdown",
   "metadata": {},
   "source": [
    "### States"
   ]
  },
  {
   "cell_type": "code",
   "execution_count": 17,
   "metadata": {},
   "outputs": [
    {
     "name": "stdout",
     "output_type": "stream",
     "text": [
      "\n",
      "The number of states whose data is being analyzed: 33\n",
      "\n",
      "\n",
      "The number of records in the dataset per state: \n"
     ]
    },
    {
     "data": {
      "image/png": "[encoded data removed]",
      "text/plain": [
       "<Figure size 432x288 with 1 Axes>"
      ]
     },
     "metadata": {
      "needs_background": "light"
     },
     "output_type": "display_data"
    }
   ],
   "source": [
    "#Number of states\n",
    "print(\"\\nThe number of states whose data is being analyzed: \" + str(len(df['state'].unique())))\n",
    "print(\"\\n\\nThe number of records in the dataset per state: \")\n",
    "df['state'].value_counts().plot(kind='bar');"
   ]
  },
  {
   "cell_type": "code",
   "execution_count": 18,
   "metadata": {
    "scrolled": true
   },
   "outputs": [
    {
     "data": {
      "image/png": "[encoded data removed]",
      "text/plain": [
       "<Figure size 432x288 with 1 Axes>"
      ]
     },
     "metadata": {
      "needs_background": "light"
     },
     "output_type": "display_data"
    }
   ],
   "source": [
    "#Total area per state over 20 years\n",
    "df.groupby(['state']).sum()['area'].plot(kind='bar');"
   ]
  },
  {
   "cell_type": "code",
   "execution_count": 19,
   "metadata": {
    "scrolled": true
   },
   "outputs": [
    {
     "data": {
      "text/html": [
       "<div>\n",
       "<style scoped>\n",
       "    .dataframe tbody tr th:only-of-type {\n",
       "        vertical-align: middle;\n",
       "    }\n",
       "\n",
       "    .dataframe tbody tr th {\n",
       "        vertical-align: top;\n",
       "    }\n",
       "\n",
       "    .dataframe thead th {\n",
       "        text-align: right;\n",
       "    }\n",
       "</style>\n",
       "<table border=\"1\" class=\"dataframe\">\n",
       "  <thead>\n",
       "    <tr style=\"text-align: right;\">\n",
       "      <th></th>\n",
       "      <th>state</th>\n",
       "      <th>area</th>\n",
       "    </tr>\n",
       "  </thead>\n",
       "  <tbody>\n",
       "    <tr>\n",
       "      <th>30</th>\n",
       "      <td>UTTAR PRADESH</td>\n",
       "      <td>14.036440</td>\n",
       "    </tr>\n",
       "    <tr>\n",
       "      <th>17</th>\n",
       "      <td>MADHYA PRADESH</td>\n",
       "      <td>11.873377</td>\n",
       "    </tr>\n",
       "    <tr>\n",
       "      <th>26</th>\n",
       "      <td>RAJASTHAN</td>\n",
       "      <td>10.906314</td>\n",
       "    </tr>\n",
       "    <tr>\n",
       "      <th>18</th>\n",
       "      <td>MAHARASHTRA</td>\n",
       "      <td>10.628637</td>\n",
       "    </tr>\n",
       "    <tr>\n",
       "      <th>1</th>\n",
       "      <td>ANDHRA PRADESH</td>\n",
       "      <td>7.700220</td>\n",
       "    </tr>\n",
       "  </tbody>\n",
       "</table>\n",
       "</div>"
      ],
      "text/plain": [
       "             state       area\n",
       "30   UTTAR PRADESH  14.036440\n",
       "17  MADHYA PRADESH  11.873377\n",
       "26       RAJASTHAN  10.906314\n",
       "18     MAHARASHTRA  10.628637\n",
       "1   ANDHRA PRADESH   7.700220"
      ]
     },
     "execution_count": 19,
     "metadata": {},
     "output_type": "execute_result"
    }
   ],
   "source": [
    "result = df.groupby(['state']).sum()['area']/df['area'].sum()*100\n",
    "percentages = pd.DataFrame({'state': result.index, 'area': result.values})\n",
    "percentages = percentages.sort_values(['area'], ascending=[False])\n",
    "percentages.head(5)"
   ]
  },
  {
   "cell_type": "markdown",
   "metadata": {},
   "source": [
    "Based on the above obtained bar chart, we can conclude that Uttar Pradesh has the largest area of land suitable for agriculture, followed by Madhya Pradesh, Rajasthan and Maharashtra."
   ]
  },
  {
   "cell_type": "code",
   "execution_count": 20,
   "metadata": {},
   "outputs": [
    {
     "data": {
      "image/png": "[encoded data removed]",
      "text/plain": [
       "<Figure size 432x288 with 1 Axes>"
      ]
     },
     "metadata": {
      "needs_background": "light"
     },
     "output_type": "display_data"
    }
   ],
   "source": [
    "#Total yield per state over 20 years\n",
    "df.groupby(['state']).sum()['yield'].plot(kind='bar');"
   ]
  },
  {
   "cell_type": "code",
   "execution_count": 21,
   "metadata": {},
   "outputs": [
    {
     "data": {
      "text/html": [
       "<div>\n",
       "<style scoped>\n",
       "    .dataframe tbody tr th:only-of-type {\n",
       "        vertical-align: middle;\n",
       "    }\n",
       "\n",
       "    .dataframe tbody tr th {\n",
       "        vertical-align: top;\n",
       "    }\n",
       "\n",
       "    .dataframe thead th {\n",
       "        text-align: right;\n",
       "    }\n",
       "</style>\n",
       "<table border=\"1\" class=\"dataframe\">\n",
       "  <thead>\n",
       "    <tr style=\"text-align: right;\">\n",
       "      <th></th>\n",
       "      <th>state</th>\n",
       "      <th>yield</th>\n",
       "    </tr>\n",
       "  </thead>\n",
       "  <tbody>\n",
       "    <tr>\n",
       "      <th>1</th>\n",
       "      <td>ANDHRA PRADESH</td>\n",
       "      <td>56.443686</td>\n",
       "    </tr>\n",
       "    <tr>\n",
       "      <th>28</th>\n",
       "      <td>TAMIL NADU</td>\n",
       "      <td>15.895008</td>\n",
       "    </tr>\n",
       "    <tr>\n",
       "      <th>16</th>\n",
       "      <td>KERALA</td>\n",
       "      <td>6.556727</td>\n",
       "    </tr>\n",
       "    <tr>\n",
       "      <th>30</th>\n",
       "      <td>UTTAR PRADESH</td>\n",
       "      <td>3.716868</td>\n",
       "    </tr>\n",
       "    <tr>\n",
       "      <th>9</th>\n",
       "      <td>GOA</td>\n",
       "      <td>2.975426</td>\n",
       "    </tr>\n",
       "  </tbody>\n",
       "</table>\n",
       "</div>"
      ],
      "text/plain": [
       "             state      yield\n",
       "1   ANDHRA PRADESH  56.443686\n",
       "28      TAMIL NADU  15.895008\n",
       "16          KERALA   6.556727\n",
       "30   UTTAR PRADESH   3.716868\n",
       "9              GOA   2.975426"
      ]
     },
     "execution_count": 21,
     "metadata": {},
     "output_type": "execute_result"
    }
   ],
   "source": [
    "result = df.groupby(['state']).sum()['yield']/df['yield'].sum()*100\n",
    "percentages = pd.DataFrame({'state': result.index, 'yield': result.values})\n",
    "percentages = percentages.sort_values(['yield'], ascending=[False])\n",
    "percentages.head(5)"
   ]
  },
  {
   "cell_type": "markdown",
   "metadata": {},
   "source": [
    "Although Andhra Pradesh only contributed for 7.7% of the total cultivation area, it resulted in the maximum yield i.e, 56.44% of the total yield from all the states over the past 20 years."
   ]
  },
  {
   "cell_type": "code",
   "execution_count": 22,
   "metadata": {
    "scrolled": true
   },
   "outputs": [
    {
     "data": {
      "image/png": "[encoded data removed]",
      "text/plain": [
       "<Figure size 432x288 with 1 Axes>"
      ]
     },
     "metadata": {
      "needs_background": "light"
     },
     "output_type": "display_data"
    }
   ],
   "source": [
    "df.plot(kind = 'scatter', x='area', y='production', s=10, c='Blue');"
   ]
  },
  {
   "cell_type": "markdown",
   "metadata": {},
   "source": [
    "We observe that an increase in area does not necessarily mean an increase in production."
   ]
  },
  {
   "cell_type": "code",
   "execution_count": 23,
   "metadata": {},
   "outputs": [
    {
     "data": {
      "image/png": "[encoded data removed]",
      "text/plain": [
       "<Figure size 432x288 with 1 Axes>"
      ]
     },
     "metadata": {
      "needs_background": "light"
     },
     "output_type": "display_data"
    }
   ],
   "source": [
    "df.plot(kind = 'scatter', x='area', y='yield', s=10, c='Blue');"
   ]
  },
  {
   "cell_type": "markdown",
   "metadata": {},
   "source": [
    "We observe that an increase in area does not necessarily mean an increase in yield."
   ]
  },
  {
   "cell_type": "code",
   "execution_count": 24,
   "metadata": {},
   "outputs": [
    {
     "data": {
      "image/png": "[encoded data removed]",
      "text/plain": [
       "<Figure size 432x288 with 1 Axes>"
      ]
     },
     "metadata": {
      "needs_background": "light"
     },
     "output_type": "display_data"
    }
   ],
   "source": [
    "df.plot(kind = 'scatter', x='production', y='yield', s=10, c='Blue');"
   ]
  },
  {
   "cell_type": "code",
   "execution_count": 25,
   "metadata": {},
   "outputs": [
    {
     "data": {
      "text/html": [
       "<div>\n",
       "<style scoped>\n",
       "    .dataframe tbody tr th:only-of-type {\n",
       "        vertical-align: middle;\n",
       "    }\n",
       "\n",
       "    .dataframe tbody tr th {\n",
       "        vertical-align: top;\n",
       "    }\n",
       "\n",
       "    .dataframe thead th {\n",
       "        text-align: right;\n",
       "    }\n",
       "</style>\n",
       "<table border=\"1\" class=\"dataframe\">\n",
       "  <thead>\n",
       "    <tr style=\"text-align: right;\">\n",
       "      <th></th>\n",
       "      <th>area</th>\n",
       "      <th>production</th>\n",
       "      <th>yield</th>\n",
       "    </tr>\n",
       "  </thead>\n",
       "  <tbody>\n",
       "    <tr>\n",
       "      <th>area</th>\n",
       "      <td>1.000000</td>\n",
       "      <td>0.028763</td>\n",
       "      <td>-0.000421</td>\n",
       "    </tr>\n",
       "    <tr>\n",
       "      <th>production</th>\n",
       "      <td>0.028763</td>\n",
       "      <td>1.000000</td>\n",
       "      <td>0.516992</td>\n",
       "    </tr>\n",
       "    <tr>\n",
       "      <th>yield</th>\n",
       "      <td>-0.000421</td>\n",
       "      <td>0.516992</td>\n",
       "      <td>1.000000</td>\n",
       "    </tr>\n",
       "  </tbody>\n",
       "</table>\n",
       "</div>"
      ],
      "text/plain": [
       "                area  production     yield\n",
       "area        1.000000    0.028763 -0.000421\n",
       "production  0.028763    1.000000  0.516992\n",
       "yield      -0.000421    0.516992  1.000000"
      ]
     },
     "execution_count": 25,
     "metadata": {},
     "output_type": "execute_result"
    }
   ],
   "source": [
    "df[['area', 'production', 'yield']].corr()"
   ]
  },
  {
   "cell_type": "markdown",
   "metadata": {},
   "source": [
    "We observe that there is a correlation of 0.517 between production and yield. This indicates that production and yield are partially correlated but not strongly correlated.\n",
    "\n",
    "We also observe that there is a negative correlation between area and yield.\n",
    "\n",
    "Since production and yield are positively correlated, while area and yield are negatively correlated, we plot a graph of yield vs the ratio of production to area. The result is a straight line, which proves that yield is production per unit area, which is true by the definition. Hence, there are no outliers."
   ]
  },
  {
   "cell_type": "code",
   "execution_count": 26,
   "metadata": {
    "scrolled": true
   },
   "outputs": [
    {
     "data": {
      "image/png": "[encoded data removed]",
      "text/plain": [
       "<Figure size 432x288 with 1 Axes>"
      ]
     },
     "metadata": {
      "needs_background": "light"
     },
     "output_type": "display_data"
    }
   ],
   "source": [
    "df2 = df.copy()\n",
    "df2['production/area'] = df['production']/df['area']\n",
    "df2.plot(kind = 'scatter', x='production/area', y='yield', s=10, c='Blue');"
   ]
  },
  {
   "cell_type": "markdown",
   "metadata": {},
   "source": [
    "### Season"
   ]
  },
  {
   "cell_type": "code",
   "execution_count": 27,
   "metadata": {
    "scrolled": false
   },
   "outputs": [
    {
     "name": "stdout",
     "output_type": "stream",
     "text": [
      "Number of crops in each season over 20 year: \n"
     ]
    },
    {
     "data": {
      "image/png": "[encoded data removed]",
      "text/plain": [
       "<Figure size 432x288 with 1 Axes>"
      ]
     },
     "metadata": {
      "needs_background": "light"
     },
     "output_type": "display_data"
    }
   ],
   "source": [
    "#Number of records per season for 20 years\n",
    "print(\"Number of crops in each season over 20 year: \")\n",
    "df2 = df[(df.season=='Kharif') | (df.season=='Rabi')]\n",
    "df2['season'].value_counts().plot(kind='bar');"
   ]
  },
  {
   "cell_type": "code",
   "execution_count": 28,
   "metadata": {},
   "outputs": [
    {
     "name": "stdout",
     "output_type": "stream",
     "text": [
      "Number of crops in each season over 20 year: \n"
     ]
    },
    {
     "data": {
      "image/png": "[encoded data removed]",
      "text/plain": [
       "<Figure size 432x288 with 1 Axes>"
      ]
     },
     "metadata": {
      "needs_background": "light"
     },
     "output_type": "display_data"
    }
   ],
   "source": [
    "#Number of records per season for 20 years\n",
    "print(\"Number of crops in each season over 20 year: \")\n",
    "df2 = df[(df.season=='Summer') | (df.season=='Winter') | (df.season=='Autumn')]\n",
    "df2['season'].value_counts().plot(kind='bar');"
   ]
  },
  {
   "cell_type": "markdown",
   "metadata": {},
   "source": [
    "When we compare the production in kharif season against that in rabi season, we find that the production in kharif season is higher.\n",
    "\n",
    "When we compare the production in summer, winter and autumn, we find that the production in summer season is higher. Kharif season in the first plot corresponds to the Summer and Autumn seasons."
   ]
  },
  {
   "cell_type": "code",
   "execution_count": 29,
   "metadata": {
    "scrolled": true
   },
   "outputs": [
    {
     "data": {
      "image/png": "[encoded data removed]",
      "text/plain": [
       "<Figure size 432x288 with 1 Axes>"
      ]
     },
     "metadata": {
      "needs_background": "light"
     },
     "output_type": "display_data"
    }
   ],
   "source": [
    "#Box plot plotted by season\n",
    "df.boxplot(by='season', column=['year'], grid=False);"
   ]
  },
  {
   "cell_type": "markdown",
   "metadata": {},
   "source": [
    "### Crops"
   ]
  },
  {
   "cell_type": "code",
   "execution_count": 30,
   "metadata": {
    "scrolled": true
   },
   "outputs": [
    {
     "data": {
      "image/png": "[encoded data removed]",
      "text/plain": [
       "<Figure size 432x288 with 1 Axes>"
      ]
     },
     "metadata": {
      "needs_background": "light"
     },
     "output_type": "display_data"
    }
   ],
   "source": [
    "df.groupby(['crop']).sum()['yield'].plot(kind='bar');"
   ]
  },
  {
   "cell_type": "code",
   "execution_count": 31,
   "metadata": {},
   "outputs": [
    {
     "data": {
      "text/html": [
       "<div>\n",
       "<style scoped>\n",
       "    .dataframe tbody tr th:only-of-type {\n",
       "        vertical-align: middle;\n",
       "    }\n",
       "\n",
       "    .dataframe tbody tr th {\n",
       "        vertical-align: top;\n",
       "    }\n",
       "\n",
       "    .dataframe thead th {\n",
       "        text-align: right;\n",
       "    }\n",
       "</style>\n",
       "<table border=\"1\" class=\"dataframe\">\n",
       "  <thead>\n",
       "    <tr style=\"text-align: right;\">\n",
       "      <th></th>\n",
       "      <th>crop</th>\n",
       "      <th>yield</th>\n",
       "    </tr>\n",
       "  </thead>\n",
       "  <tbody>\n",
       "    <tr>\n",
       "      <th>9</th>\n",
       "      <td>Coconut</td>\n",
       "      <td>76.845106</td>\n",
       "    </tr>\n",
       "    <tr>\n",
       "      <th>42</th>\n",
       "      <td>Sugarcane</td>\n",
       "      <td>9.604266</td>\n",
       "    </tr>\n",
       "    <tr>\n",
       "      <th>33</th>\n",
       "      <td>Potato</td>\n",
       "      <td>2.120862</td>\n",
       "    </tr>\n",
       "    <tr>\n",
       "      <th>29</th>\n",
       "      <td>Onion</td>\n",
       "      <td>1.858775</td>\n",
       "    </tr>\n",
       "    <tr>\n",
       "      <th>3</th>\n",
       "      <td>Banana</td>\n",
       "      <td>1.838115</td>\n",
       "    </tr>\n",
       "  </tbody>\n",
       "</table>\n",
       "</div>"
      ],
      "text/plain": [
       "         crop      yield\n",
       "9     Coconut  76.845106\n",
       "42  Sugarcane   9.604266\n",
       "33     Potato   2.120862\n",
       "29      Onion   1.858775\n",
       "3      Banana   1.838115"
      ]
     },
     "execution_count": 31,
     "metadata": {},
     "output_type": "execute_result"
    }
   ],
   "source": [
    "result = df.groupby(['crop']).sum()['yield']/df['yield'].sum()*100\n",
    "percentages = pd.DataFrame({'crop': result.index, 'yield': result.values})\n",
    "percentages = percentages.sort_values(['yield'], ascending=[False])\n",
    "percentages.head(5)"
   ]
  },
  {
   "cell_type": "code",
   "execution_count": 32,
   "metadata": {},
   "outputs": [
    {
     "data": {
      "image/png": "[encoded data removed]",
      "text/plain": [
       "<Figure size 432x288 with 1 Axes>"
      ]
     },
     "metadata": {},
     "output_type": "display_data"
    }
   ],
   "source": [
    "df.groupby(['crop']).sum()['yield'].plot(kind='pie');"
   ]
  },
  {
   "cell_type": "markdown",
   "metadata": {},
   "source": [
    "The pie chart and the bar chart indicate that yield of two crops: coconut and sugarcane from 1998-2008 in India have been relatively much higher than that of the other crops."
   ]
  },
  {
   "cell_type": "code",
   "execution_count": 33,
   "metadata": {
    "scrolled": true
   },
   "outputs": [
    {
     "data": {
      "image/png": "[encoded data removed]",
      "text/plain": [
       "<Figure size 432x288 with 1 Axes>"
      ]
     },
     "metadata": {
      "needs_background": "light"
     },
     "output_type": "display_data"
    }
   ],
   "source": [
    "#Plot of year vs yield for each of the seasons\n",
    "df2 = df[(df.season=='Kharif') | (df.season=='Rabi')]\n",
    "df2.pivot_table(index='year',columns='season',values='yield',fill_value=0).plot.bar(stacked=True);"
   ]
  },
  {
   "cell_type": "markdown",
   "metadata": {},
   "source": [
    "The yield was higher in the kharif season than in rabi season for all years."
   ]
  },
  {
   "cell_type": "code",
   "execution_count": 34,
   "metadata": {},
   "outputs": [
    {
     "data": {
      "image/png": "[encoded data removed]",
      "text/plain": [
       "<Figure size 432x288 with 1 Axes>"
      ]
     },
     "metadata": {
      "needs_background": "light"
     },
     "output_type": "display_data"
    }
   ],
   "source": [
    "#Plot of year vs yield for each of the seasons\n",
    "df2 = df[(df.season=='Summer') | (df.season=='Winter') | (df.season=='Autumn')]\n",
    "df2.pivot_table(index='year',columns='season',values='yield',fill_value=0).plot.bar(stacked=True);"
   ]
  },
  {
   "cell_type": "markdown",
   "metadata": {},
   "source": [
    "The yield was highest in the winter season for all years."
   ]
  },
  {
   "cell_type": "markdown",
   "metadata": {},
   "source": [
    "### Removing duplicates"
   ]
  },
  {
   "cell_type": "code",
   "execution_count": 35,
   "metadata": {},
   "outputs": [
    {
     "name": "stdout",
     "output_type": "stream",
     "text": [
      "173066\n",
      "173066\n"
     ]
    }
   ],
   "source": [
    "#Finding length of the dataset and length of the dataset after removing duplicates\n",
    "print(len(df))\n",
    "print(len(df.drop_duplicates()))"
   ]
  },
  {
   "cell_type": "markdown",
   "metadata": {},
   "source": [
    "The number of tuples in the dataset before and after the removal of duplicates remains the same. This implies that there were no duplicate tuples in the original dataset."
   ]
  },
  {
   "cell_type": "markdown",
   "metadata": {},
   "source": [
    "### Treat outlier"
   ]
  },
  {
   "cell_type": "code",
   "execution_count": 36,
   "metadata": {},
   "outputs": [
    {
     "name": "stdout",
     "output_type": "stream",
     "text": [
      "IQR: 7157.0\n",
      "Number of records: 173066\n",
      "\n",
      "Number of records with production values beyond IQR: \n",
      "30081\n",
      "Percentage: 0.17381230282088914\n"
     ]
    },
    {
     "data": {
      "image/png": "[encoded data removed]",
      "text/plain": [
       "<Figure size 432x288 with 1 Axes>"
      ]
     },
     "metadata": {
      "needs_background": "light"
     },
     "output_type": "display_data"
    }
   ],
   "source": [
    "#Analyzing production\n",
    "import seaborn as sns\n",
    "sns.boxplot(x = df['production'])\n",
    "\n",
    "Q1 = df['production'].quantile(0.25)\n",
    "Q3 = df['production'].quantile(0.75)\n",
    "\n",
    "IQR = Q3 - Q1\n",
    "print(\"IQR: \" + str(Q3-Q1))\n",
    "\n",
    "#print(df['area'] < (Q1 - 1.5 * IQR)) |(df['area'] > (Q3 + 1.5 * IQR))\n",
    "\n",
    "print(\"Number of records: \" + str(len(df)))\n",
    "print(\"\\nNumber of records with production values beyond IQR: \")\n",
    "print(len(df[(df['production'] < (Q1 - 1.5 * IQR)) | (df['production'] > (Q3 + 1.5 * IQR))]))\n",
    "a = len(df[(df['production'] < (Q1 - 1.5 * IQR)) | (df['production'] > (Q3 + 1.5 * IQR))])\n",
    "b = len(df)\n",
    "print(\"Percentage: \" + str(a/b))"
   ]
  },
  {
   "cell_type": "code",
   "execution_count": 37,
   "metadata": {},
   "outputs": [
    {
     "name": "stdout",
     "output_type": "stream",
     "text": [
      "IQR: 4893.0\n",
      "Number of records: 173066\n",
      "\n",
      "Number of records with areas beyond IQR: \n",
      "28276\n",
      "Percentage: 0.1633827557116938\n"
     ]
    },
    {
     "data": {
      "image/png": "[encoded data removed]",
      "text/plain": [
       "<Figure size 432x288 with 1 Axes>"
      ]
     },
     "metadata": {
      "needs_background": "light"
     },
     "output_type": "display_data"
    }
   ],
   "source": [
    "#Analyzing area\n",
    "import seaborn as sns\n",
    "sns.boxplot(x = df['area'])\n",
    "\n",
    "Q1 = df['area'].quantile(0.25)\n",
    "Q3 = df['area'].quantile(0.75)\n",
    "\n",
    "IQR = Q3 - Q1\n",
    "print(\"IQR: \" + str(Q3-Q1))\n",
    "\n",
    "print(\"Number of records: \" + str(len(df)))\n",
    "print(\"\\nNumber of records with areas beyond IQR: \")\n",
    "print(len(df[(df['area'] < (Q1 - 1.5 * IQR)) | (df['area'] > (Q3 + 1.5 * IQR))]))\n",
    "a = len(df[(df['area'] < (Q1 - 1.5 * IQR)) | (df['area'] > (Q3 + 1.5 * IQR))])\n",
    "b = len(df)\n",
    "print(\"Percentage: \" + str(a/b))"
   ]
  },
  {
   "cell_type": "code",
   "execution_count": 38,
   "metadata": {},
   "outputs": [
    {
     "name": "stdout",
     "output_type": "stream",
     "text": [
      "IQR: 1.70670005225\n",
      "Number of records: 173066\n",
      "\n",
      "Number of records with areas beyond IQR: \n",
      "25841\n",
      "Percentage: 0.14931297886355493\n"
     ]
    },
    {
     "data": {
      "image/png": "[encoded data removed]",
      "text/plain": [
       "<Figure size 432x288 with 1 Axes>"
      ]
     },
     "metadata": {
      "needs_background": "light"
     },
     "output_type": "display_data"
    }
   ],
   "source": [
    "#Analyzing yield\n",
    "import seaborn as sns\n",
    "sns.boxplot(x = df['yield'])\n",
    "\n",
    "Q1 = df['yield'].quantile(0.25)\n",
    "Q3 = df['yield'].quantile(0.75)\n",
    "\n",
    "IQR = Q3 - Q1\n",
    "print(\"IQR: \" + str(Q3-Q1))\n",
    "\n",
    "print(\"Number of records: \" + str(len(df)))\n",
    "print(\"\\nNumber of records with areas beyond IQR: \")\n",
    "print(len(df[(df['yield'] < (Q1 - 1.5 * IQR)) | (df['yield'] > (Q3 + 1.5 * IQR))]))\n",
    "a = len(df[(df['yield'] < (Q1 - 1.5 * IQR)) | (df['yield'] > (Q3 + 1.5 * IQR))])\n",
    "b = len(df)\n",
    "print(\"Percentage: \" + str(a/b))"
   ]
  },
  {
   "cell_type": "markdown",
   "metadata": {},
   "source": [
    "### Scaling features"
   ]
  },
  {
   "cell_type": "code",
   "execution_count": 39,
   "metadata": {
    "scrolled": false
   },
   "outputs": [
    {
     "name": "stdout",
     "output_type": "stream",
     "text": [
      "12403.469739128437\n",
      "678.0\n"
     ]
    }
   ],
   "source": [
    "print(df['area'].mean())\n",
    "print(df['area'].median())"
   ]
  },
  {
   "cell_type": "markdown",
   "metadata": {},
   "source": [
    "Since the mean is greater than the median, the 'area' values are right skewed. In order to prove this, we plot a histogram."
   ]
  },
  {
   "cell_type": "code",
   "execution_count": 40,
   "metadata": {},
   "outputs": [
    {
     "data": {
      "image/png": "[encoded data removed]",
      "text/plain": [
       "<Figure size 432x288 with 1 Axes>"
      ]
     },
     "metadata": {
      "needs_background": "light"
     },
     "output_type": "display_data"
    }
   ],
   "source": [
    "import seaborn as sns\n",
    "sns.distplot(df['area']);"
   ]
  },
  {
   "cell_type": "code",
   "execution_count": 41,
   "metadata": {},
   "outputs": [
    {
     "data": {
      "image/png": "[encoded data removed]",
      "text/plain": [
       "<Figure size 432x288 with 1 Axes>"
      ]
     },
     "metadata": {
      "needs_background": "light"
     },
     "output_type": "display_data"
    }
   ],
   "source": [
    "#Normalizing area by taking logarithm\n",
    "import seaborn as sns\n",
    "sns.distplot(np.log(df['area']));"
   ]
  },
  {
   "cell_type": "code",
   "execution_count": 42,
   "metadata": {},
   "outputs": [
    {
     "data": {
      "image/png": "[encoded data removed]",
      "text/plain": [
       "<Figure size 432x288 with 1 Axes>"
      ]
     },
     "metadata": {
      "needs_background": "light"
     },
     "output_type": "display_data"
    }
   ],
   "source": [
    "df.groupby(['year']).sum()['area'].plot(kind='line');"
   ]
  },
  {
   "cell_type": "markdown",
   "metadata": {},
   "source": [
    "Based on the year vs area graph, we can conclude that over the time, the area of land used for agriculture has reduced. This decrease is more significant from the year 2010. This is due to more area being used for urbanization."
   ]
  },
  {
   "cell_type": "markdown",
   "metadata": {},
   "source": [
    "Decline in soil fertility: For an agricultural country like India, soil is a precious resource, and degradation- of soil is a serious problem, which leads to depletion of soil fertility. Soil erosion is the main form of degradation which occurs because of deforestation and unscientific agricultural practices like shifting cultivation. Increasing salinity, alkalinity and aridity because of mismanagement and repeated use are other reasons for loss of soil fertility."
   ]
  },
  {
   "cell_type": "code",
   "execution_count": 43,
   "metadata": {},
   "outputs": [
    {
     "data": {
      "image/png": "[encoded data removed]",
      "text/plain": [
       "<Figure size 432x288 with 1 Axes>"
      ]
     },
     "metadata": {
      "needs_background": "light"
     },
     "output_type": "display_data"
    }
   ],
   "source": [
    "df.groupby(['year']).sum()['production'].plot(kind='line');"
   ]
  },
  {
   "cell_type": "code",
   "execution_count": 44,
   "metadata": {
    "scrolled": false
   },
   "outputs": [
    {
     "data": {
      "image/png": "[encoded data removed]",
      "text/plain": [
       "<Figure size 432x288 with 1 Axes>"
      ]
     },
     "metadata": {
      "needs_background": "light"
     },
     "output_type": "display_data"
    }
   ],
   "source": [
    "df.groupby(['year']).sum()['yield'].plot(kind='line');"
   ]
  },
  {
   "cell_type": "markdown",
   "metadata": {},
   "source": [
    "Since production and yield columns had high positive correlation, the graphs of year vs penroduction and year vs yield are similar. Even though the area used for agriculture has reduced significantly from 2010, the production, and therefore the yield have increased significantly. This is due to improved techniques of cultivation."
   ]
  },
  {
   "cell_type": "markdown",
   "metadata": {},
   "source": [
    "In 2007, the food grain situation was quite alarming as per reports by India Today network. The average annual rate of growth of agriculture was possibly the lowest since Independence. Public investment in agriculture dropped significantly. Addition to irrigation was very low compared to previous decades. Ground water tables have dropped rapidly and shortage of water for farming had reached crisis levels. There had been no technological breakthrough that could boost the yields of major food grains."
   ]
  },
  {
   "cell_type": "markdown",
   "metadata": {},
   "source": [
    "In 2011, with a normal monsoon season, Indian agriculture accomplished an all-time record production of 85.9 million tonnes of wheat, a 6.4% increase from a year earlier. Rice output in India hit a new record at 95.3 million tonnes, a 7% increase from the year earlier."
   ]
  },
  {
   "cell_type": "code",
   "execution_count": 61,
   "metadata": {},
   "outputs": [
    {
     "data": {
      "text/plain": [
       "156022"
      ]
     },
     "execution_count": 61,
     "metadata": {},
     "output_type": "execute_result"
    }
   ],
   "source": [
    "#Considering the data from 1998 upto 2009\n",
    "df = df[df['year']<=2009]\n",
    "len(df)"
   ]
  },
  {
   "cell_type": "code",
   "execution_count": 62,
   "metadata": {
    "scrolled": false
   },
   "outputs": [
    {
     "name": "stdout",
     "output_type": "stream",
     "text": [
      "[['ANDHRA PRADESH' 'ADILABAD' 'Rice' 1998 'Kharif' 66400.0]\n",
      " ['ANDHRA PRADESH' 'ADILABAD' 'Rice' 1998 'Rabi' 12200.0]\n",
      " ['ANDHRA PRADESH' 'ADILABAD' 'Rice' 1999 'Kharif' 66388.0]\n",
      " ...\n",
      " ['GOA' 'GOA SOUTH' 'Sugarcane' 2005 'Whole year' 870.0]\n",
      " ['GOA' 'GOA SOUTH' 'Sugarcane' 2006 'Whole year' 876.0]\n",
      " ['GOA' 'GOA SOUTH' 'Sugarcane' 2007 'Whole year' 810.0]]\n"
     ]
    }
   ],
   "source": [
    "#X consists of all the columns except for production and yield\n",
    "#y consists of the production column\n",
    "X = df.iloc[:, :-2].values\n",
    "y = df.iloc[:, -2].values\n",
    "print(X)"
   ]
  },
  {
   "cell_type": "code",
   "execution_count": 63,
   "metadata": {
    "scrolled": true
   },
   "outputs": [
    {
     "data": {
      "text/html": [
       "<div>\n",
       "<style scoped>\n",
       "    .dataframe tbody tr th:only-of-type {\n",
       "        vertical-align: middle;\n",
       "    }\n",
       "\n",
       "    .dataframe tbody tr th {\n",
       "        vertical-align: top;\n",
       "    }\n",
       "\n",
       "    .dataframe thead th {\n",
       "        text-align: right;\n",
       "    }\n",
       "</style>\n",
       "<table border=\"1\" class=\"dataframe\">\n",
       "  <thead>\n",
       "    <tr style=\"text-align: right;\">\n",
       "      <th></th>\n",
       "      <th>state_A &amp; N ISLANDS</th>\n",
       "      <th>state_ANDHRA PRADESH</th>\n",
       "      <th>state_ARUNACHAL PRADESH</th>\n",
       "      <th>state_ASSAM</th>\n",
       "      <th>state_BIHAR</th>\n",
       "      <th>state_CHANDIGARH</th>\n",
       "      <th>state_CHHATTISGARH</th>\n",
       "      <th>state_D &amp; N HAVELI</th>\n",
       "      <th>state_DELHI</th>\n",
       "      <th>state_GOA</th>\n",
       "      <th>...</th>\n",
       "      <th>crop_Tobacco</th>\n",
       "      <th>crop_Turmeric</th>\n",
       "      <th>crop_Urad</th>\n",
       "      <th>crop_Wheat</th>\n",
       "      <th>season_Autumn</th>\n",
       "      <th>season_Kharif</th>\n",
       "      <th>season_Rabi</th>\n",
       "      <th>season_Summer</th>\n",
       "      <th>season_Whole year</th>\n",
       "      <th>season_Winter</th>\n",
       "    </tr>\n",
       "  </thead>\n",
       "  <tbody>\n",
       "    <tr>\n",
       "      <th>0</th>\n",
       "      <td>0</td>\n",
       "      <td>1</td>\n",
       "      <td>0</td>\n",
       "      <td>0</td>\n",
       "      <td>0</td>\n",
       "      <td>0</td>\n",
       "      <td>0</td>\n",
       "      <td>0</td>\n",
       "      <td>0</td>\n",
       "      <td>0</td>\n",
       "      <td>...</td>\n",
       "      <td>0</td>\n",
       "      <td>0</td>\n",
       "      <td>0</td>\n",
       "      <td>0</td>\n",
       "      <td>0</td>\n",
       "      <td>1</td>\n",
       "      <td>0</td>\n",
       "      <td>0</td>\n",
       "      <td>0</td>\n",
       "      <td>0</td>\n",
       "    </tr>\n",
       "    <tr>\n",
       "      <th>1</th>\n",
       "      <td>0</td>\n",
       "      <td>1</td>\n",
       "      <td>0</td>\n",
       "      <td>0</td>\n",
       "      <td>0</td>\n",
       "      <td>0</td>\n",
       "      <td>0</td>\n",
       "      <td>0</td>\n",
       "      <td>0</td>\n",
       "      <td>0</td>\n",
       "      <td>...</td>\n",
       "      <td>0</td>\n",
       "      <td>0</td>\n",
       "      <td>0</td>\n",
       "      <td>0</td>\n",
       "      <td>0</td>\n",
       "      <td>0</td>\n",
       "      <td>1</td>\n",
       "      <td>0</td>\n",
       "      <td>0</td>\n",
       "      <td>0</td>\n",
       "    </tr>\n",
       "    <tr>\n",
       "      <th>2</th>\n",
       "      <td>0</td>\n",
       "      <td>1</td>\n",
       "      <td>0</td>\n",
       "      <td>0</td>\n",
       "      <td>0</td>\n",
       "      <td>0</td>\n",
       "      <td>0</td>\n",
       "      <td>0</td>\n",
       "      <td>0</td>\n",
       "      <td>0</td>\n",
       "      <td>...</td>\n",
       "      <td>0</td>\n",
       "      <td>0</td>\n",
       "      <td>0</td>\n",
       "      <td>0</td>\n",
       "      <td>0</td>\n",
       "      <td>1</td>\n",
       "      <td>0</td>\n",
       "      <td>0</td>\n",
       "      <td>0</td>\n",
       "      <td>0</td>\n",
       "    </tr>\n",
       "    <tr>\n",
       "      <th>3</th>\n",
       "      <td>0</td>\n",
       "      <td>1</td>\n",
       "      <td>0</td>\n",
       "      <td>0</td>\n",
       "      <td>0</td>\n",
       "      <td>0</td>\n",
       "      <td>0</td>\n",
       "      <td>0</td>\n",
       "      <td>0</td>\n",
       "      <td>0</td>\n",
       "      <td>...</td>\n",
       "      <td>0</td>\n",
       "      <td>0</td>\n",
       "      <td>0</td>\n",
       "      <td>0</td>\n",
       "      <td>0</td>\n",
       "      <td>0</td>\n",
       "      <td>1</td>\n",
       "      <td>0</td>\n",
       "      <td>0</td>\n",
       "      <td>0</td>\n",
       "    </tr>\n",
       "    <tr>\n",
       "      <th>4</th>\n",
       "      <td>0</td>\n",
       "      <td>1</td>\n",
       "      <td>0</td>\n",
       "      <td>0</td>\n",
       "      <td>0</td>\n",
       "      <td>0</td>\n",
       "      <td>0</td>\n",
       "      <td>0</td>\n",
       "      <td>0</td>\n",
       "      <td>0</td>\n",
       "      <td>...</td>\n",
       "      <td>0</td>\n",
       "      <td>0</td>\n",
       "      <td>0</td>\n",
       "      <td>0</td>\n",
       "      <td>0</td>\n",
       "      <td>1</td>\n",
       "      <td>0</td>\n",
       "      <td>0</td>\n",
       "      <td>0</td>\n",
       "      <td>0</td>\n",
       "    </tr>\n",
       "    <tr>\n",
       "      <th>5</th>\n",
       "      <td>0</td>\n",
       "      <td>1</td>\n",
       "      <td>0</td>\n",
       "      <td>0</td>\n",
       "      <td>0</td>\n",
       "      <td>0</td>\n",
       "      <td>0</td>\n",
       "      <td>0</td>\n",
       "      <td>0</td>\n",
       "      <td>0</td>\n",
       "      <td>...</td>\n",
       "      <td>0</td>\n",
       "      <td>0</td>\n",
       "      <td>0</td>\n",
       "      <td>0</td>\n",
       "      <td>0</td>\n",
       "      <td>0</td>\n",
       "      <td>1</td>\n",
       "      <td>0</td>\n",
       "      <td>0</td>\n",
       "      <td>0</td>\n",
       "    </tr>\n",
       "    <tr>\n",
       "      <th>6</th>\n",
       "      <td>0</td>\n",
       "      <td>1</td>\n",
       "      <td>0</td>\n",
       "      <td>0</td>\n",
       "      <td>0</td>\n",
       "      <td>0</td>\n",
       "      <td>0</td>\n",
       "      <td>0</td>\n",
       "      <td>0</td>\n",
       "      <td>0</td>\n",
       "      <td>...</td>\n",
       "      <td>0</td>\n",
       "      <td>0</td>\n",
       "      <td>0</td>\n",
       "      <td>0</td>\n",
       "      <td>0</td>\n",
       "      <td>1</td>\n",
       "      <td>0</td>\n",
       "      <td>0</td>\n",
       "      <td>0</td>\n",
       "      <td>0</td>\n",
       "    </tr>\n",
       "    <tr>\n",
       "      <th>7</th>\n",
       "      <td>0</td>\n",
       "      <td>1</td>\n",
       "      <td>0</td>\n",
       "      <td>0</td>\n",
       "      <td>0</td>\n",
       "      <td>0</td>\n",
       "      <td>0</td>\n",
       "      <td>0</td>\n",
       "      <td>0</td>\n",
       "      <td>0</td>\n",
       "      <td>...</td>\n",
       "      <td>0</td>\n",
       "      <td>0</td>\n",
       "      <td>0</td>\n",
       "      <td>0</td>\n",
       "      <td>0</td>\n",
       "      <td>0</td>\n",
       "      <td>1</td>\n",
       "      <td>0</td>\n",
       "      <td>0</td>\n",
       "      <td>0</td>\n",
       "    </tr>\n",
       "    <tr>\n",
       "      <th>8</th>\n",
       "      <td>0</td>\n",
       "      <td>1</td>\n",
       "      <td>0</td>\n",
       "      <td>0</td>\n",
       "      <td>0</td>\n",
       "      <td>0</td>\n",
       "      <td>0</td>\n",
       "      <td>0</td>\n",
       "      <td>0</td>\n",
       "      <td>0</td>\n",
       "      <td>...</td>\n",
       "      <td>0</td>\n",
       "      <td>0</td>\n",
       "      <td>0</td>\n",
       "      <td>0</td>\n",
       "      <td>0</td>\n",
       "      <td>1</td>\n",
       "      <td>0</td>\n",
       "      <td>0</td>\n",
       "      <td>0</td>\n",
       "      <td>0</td>\n",
       "    </tr>\n",
       "    <tr>\n",
       "      <th>9</th>\n",
       "      <td>0</td>\n",
       "      <td>1</td>\n",
       "      <td>0</td>\n",
       "      <td>0</td>\n",
       "      <td>0</td>\n",
       "      <td>0</td>\n",
       "      <td>0</td>\n",
       "      <td>0</td>\n",
       "      <td>0</td>\n",
       "      <td>0</td>\n",
       "      <td>...</td>\n",
       "      <td>0</td>\n",
       "      <td>0</td>\n",
       "      <td>0</td>\n",
       "      <td>0</td>\n",
       "      <td>0</td>\n",
       "      <td>0</td>\n",
       "      <td>1</td>\n",
       "      <td>0</td>\n",
       "      <td>0</td>\n",
       "      <td>0</td>\n",
       "    </tr>\n",
       "    <tr>\n",
       "      <th>10</th>\n",
       "      <td>0</td>\n",
       "      <td>1</td>\n",
       "      <td>0</td>\n",
       "      <td>0</td>\n",
       "      <td>0</td>\n",
       "      <td>0</td>\n",
       "      <td>0</td>\n",
       "      <td>0</td>\n",
       "      <td>0</td>\n",
       "      <td>0</td>\n",
       "      <td>...</td>\n",
       "      <td>0</td>\n",
       "      <td>0</td>\n",
       "      <td>0</td>\n",
       "      <td>0</td>\n",
       "      <td>0</td>\n",
       "      <td>1</td>\n",
       "      <td>0</td>\n",
       "      <td>0</td>\n",
       "      <td>0</td>\n",
       "      <td>0</td>\n",
       "    </tr>\n",
       "    <tr>\n",
       "      <th>11</th>\n",
       "      <td>0</td>\n",
       "      <td>1</td>\n",
       "      <td>0</td>\n",
       "      <td>0</td>\n",
       "      <td>0</td>\n",
       "      <td>0</td>\n",
       "      <td>0</td>\n",
       "      <td>0</td>\n",
       "      <td>0</td>\n",
       "      <td>0</td>\n",
       "      <td>...</td>\n",
       "      <td>0</td>\n",
       "      <td>0</td>\n",
       "      <td>0</td>\n",
       "      <td>0</td>\n",
       "      <td>0</td>\n",
       "      <td>0</td>\n",
       "      <td>1</td>\n",
       "      <td>0</td>\n",
       "      <td>0</td>\n",
       "      <td>0</td>\n",
       "    </tr>\n",
       "    <tr>\n",
       "      <th>12</th>\n",
       "      <td>0</td>\n",
       "      <td>1</td>\n",
       "      <td>0</td>\n",
       "      <td>0</td>\n",
       "      <td>0</td>\n",
       "      <td>0</td>\n",
       "      <td>0</td>\n",
       "      <td>0</td>\n",
       "      <td>0</td>\n",
       "      <td>0</td>\n",
       "      <td>...</td>\n",
       "      <td>0</td>\n",
       "      <td>0</td>\n",
       "      <td>0</td>\n",
       "      <td>0</td>\n",
       "      <td>0</td>\n",
       "      <td>1</td>\n",
       "      <td>0</td>\n",
       "      <td>0</td>\n",
       "      <td>0</td>\n",
       "      <td>0</td>\n",
       "    </tr>\n",
       "    <tr>\n",
       "      <th>13</th>\n",
       "      <td>0</td>\n",
       "      <td>1</td>\n",
       "      <td>0</td>\n",
       "      <td>0</td>\n",
       "      <td>0</td>\n",
       "      <td>0</td>\n",
       "      <td>0</td>\n",
       "      <td>0</td>\n",
       "      <td>0</td>\n",
       "      <td>0</td>\n",
       "      <td>...</td>\n",
       "      <td>0</td>\n",
       "      <td>0</td>\n",
       "      <td>0</td>\n",
       "      <td>0</td>\n",
       "      <td>0</td>\n",
       "      <td>0</td>\n",
       "      <td>1</td>\n",
       "      <td>0</td>\n",
       "      <td>0</td>\n",
       "      <td>0</td>\n",
       "    </tr>\n",
       "    <tr>\n",
       "      <th>14</th>\n",
       "      <td>0</td>\n",
       "      <td>1</td>\n",
       "      <td>0</td>\n",
       "      <td>0</td>\n",
       "      <td>0</td>\n",
       "      <td>0</td>\n",
       "      <td>0</td>\n",
       "      <td>0</td>\n",
       "      <td>0</td>\n",
       "      <td>0</td>\n",
       "      <td>...</td>\n",
       "      <td>0</td>\n",
       "      <td>0</td>\n",
       "      <td>0</td>\n",
       "      <td>0</td>\n",
       "      <td>0</td>\n",
       "      <td>1</td>\n",
       "      <td>0</td>\n",
       "      <td>0</td>\n",
       "      <td>0</td>\n",
       "      <td>0</td>\n",
       "    </tr>\n",
       "    <tr>\n",
       "      <th>15</th>\n",
       "      <td>0</td>\n",
       "      <td>1</td>\n",
       "      <td>0</td>\n",
       "      <td>0</td>\n",
       "      <td>0</td>\n",
       "      <td>0</td>\n",
       "      <td>0</td>\n",
       "      <td>0</td>\n",
       "      <td>0</td>\n",
       "      <td>0</td>\n",
       "      <td>...</td>\n",
       "      <td>0</td>\n",
       "      <td>0</td>\n",
       "      <td>0</td>\n",
       "      <td>0</td>\n",
       "      <td>0</td>\n",
       "      <td>0</td>\n",
       "      <td>1</td>\n",
       "      <td>0</td>\n",
       "      <td>0</td>\n",
       "      <td>0</td>\n",
       "    </tr>\n",
       "    <tr>\n",
       "      <th>16</th>\n",
       "      <td>0</td>\n",
       "      <td>1</td>\n",
       "      <td>0</td>\n",
       "      <td>0</td>\n",
       "      <td>0</td>\n",
       "      <td>0</td>\n",
       "      <td>0</td>\n",
       "      <td>0</td>\n",
       "      <td>0</td>\n",
       "      <td>0</td>\n",
       "      <td>...</td>\n",
       "      <td>0</td>\n",
       "      <td>0</td>\n",
       "      <td>0</td>\n",
       "      <td>0</td>\n",
       "      <td>0</td>\n",
       "      <td>1</td>\n",
       "      <td>0</td>\n",
       "      <td>0</td>\n",
       "      <td>0</td>\n",
       "      <td>0</td>\n",
       "    </tr>\n",
       "    <tr>\n",
       "      <th>17</th>\n",
       "      <td>0</td>\n",
       "      <td>1</td>\n",
       "      <td>0</td>\n",
       "      <td>0</td>\n",
       "      <td>0</td>\n",
       "      <td>0</td>\n",
       "      <td>0</td>\n",
       "      <td>0</td>\n",
       "      <td>0</td>\n",
       "      <td>0</td>\n",
       "      <td>...</td>\n",
       "      <td>0</td>\n",
       "      <td>0</td>\n",
       "      <td>0</td>\n",
       "      <td>0</td>\n",
       "      <td>0</td>\n",
       "      <td>0</td>\n",
       "      <td>1</td>\n",
       "      <td>0</td>\n",
       "      <td>0</td>\n",
       "      <td>0</td>\n",
       "    </tr>\n",
       "    <tr>\n",
       "      <th>18</th>\n",
       "      <td>0</td>\n",
       "      <td>1</td>\n",
       "      <td>0</td>\n",
       "      <td>0</td>\n",
       "      <td>0</td>\n",
       "      <td>0</td>\n",
       "      <td>0</td>\n",
       "      <td>0</td>\n",
       "      <td>0</td>\n",
       "      <td>0</td>\n",
       "      <td>...</td>\n",
       "      <td>0</td>\n",
       "      <td>0</td>\n",
       "      <td>0</td>\n",
       "      <td>0</td>\n",
       "      <td>0</td>\n",
       "      <td>1</td>\n",
       "      <td>0</td>\n",
       "      <td>0</td>\n",
       "      <td>0</td>\n",
       "      <td>0</td>\n",
       "    </tr>\n",
       "    <tr>\n",
       "      <th>19</th>\n",
       "      <td>0</td>\n",
       "      <td>1</td>\n",
       "      <td>0</td>\n",
       "      <td>0</td>\n",
       "      <td>0</td>\n",
       "      <td>0</td>\n",
       "      <td>0</td>\n",
       "      <td>0</td>\n",
       "      <td>0</td>\n",
       "      <td>0</td>\n",
       "      <td>...</td>\n",
       "      <td>0</td>\n",
       "      <td>0</td>\n",
       "      <td>0</td>\n",
       "      <td>0</td>\n",
       "      <td>0</td>\n",
       "      <td>0</td>\n",
       "      <td>1</td>\n",
       "      <td>0</td>\n",
       "      <td>0</td>\n",
       "      <td>0</td>\n",
       "    </tr>\n",
       "    <tr>\n",
       "      <th>20</th>\n",
       "      <td>0</td>\n",
       "      <td>1</td>\n",
       "      <td>0</td>\n",
       "      <td>0</td>\n",
       "      <td>0</td>\n",
       "      <td>0</td>\n",
       "      <td>0</td>\n",
       "      <td>0</td>\n",
       "      <td>0</td>\n",
       "      <td>0</td>\n",
       "      <td>...</td>\n",
       "      <td>0</td>\n",
       "      <td>0</td>\n",
       "      <td>0</td>\n",
       "      <td>0</td>\n",
       "      <td>0</td>\n",
       "      <td>1</td>\n",
       "      <td>0</td>\n",
       "      <td>0</td>\n",
       "      <td>0</td>\n",
       "      <td>0</td>\n",
       "    </tr>\n",
       "    <tr>\n",
       "      <th>21</th>\n",
       "      <td>0</td>\n",
       "      <td>1</td>\n",
       "      <td>0</td>\n",
       "      <td>0</td>\n",
       "      <td>0</td>\n",
       "      <td>0</td>\n",
       "      <td>0</td>\n",
       "      <td>0</td>\n",
       "      <td>0</td>\n",
       "      <td>0</td>\n",
       "      <td>...</td>\n",
       "      <td>0</td>\n",
       "      <td>0</td>\n",
       "      <td>0</td>\n",
       "      <td>0</td>\n",
       "      <td>0</td>\n",
       "      <td>0</td>\n",
       "      <td>1</td>\n",
       "      <td>0</td>\n",
       "      <td>0</td>\n",
       "      <td>0</td>\n",
       "    </tr>\n",
       "    <tr>\n",
       "      <th>22</th>\n",
       "      <td>0</td>\n",
       "      <td>1</td>\n",
       "      <td>0</td>\n",
       "      <td>0</td>\n",
       "      <td>0</td>\n",
       "      <td>0</td>\n",
       "      <td>0</td>\n",
       "      <td>0</td>\n",
       "      <td>0</td>\n",
       "      <td>0</td>\n",
       "      <td>...</td>\n",
       "      <td>0</td>\n",
       "      <td>0</td>\n",
       "      <td>0</td>\n",
       "      <td>0</td>\n",
       "      <td>0</td>\n",
       "      <td>1</td>\n",
       "      <td>0</td>\n",
       "      <td>0</td>\n",
       "      <td>0</td>\n",
       "      <td>0</td>\n",
       "    </tr>\n",
       "    <tr>\n",
       "      <th>23</th>\n",
       "      <td>0</td>\n",
       "      <td>1</td>\n",
       "      <td>0</td>\n",
       "      <td>0</td>\n",
       "      <td>0</td>\n",
       "      <td>0</td>\n",
       "      <td>0</td>\n",
       "      <td>0</td>\n",
       "      <td>0</td>\n",
       "      <td>0</td>\n",
       "      <td>...</td>\n",
       "      <td>0</td>\n",
       "      <td>0</td>\n",
       "      <td>0</td>\n",
       "      <td>0</td>\n",
       "      <td>0</td>\n",
       "      <td>0</td>\n",
       "      <td>1</td>\n",
       "      <td>0</td>\n",
       "      <td>0</td>\n",
       "      <td>0</td>\n",
       "    </tr>\n",
       "    <tr>\n",
       "      <th>28</th>\n",
       "      <td>0</td>\n",
       "      <td>1</td>\n",
       "      <td>0</td>\n",
       "      <td>0</td>\n",
       "      <td>0</td>\n",
       "      <td>0</td>\n",
       "      <td>0</td>\n",
       "      <td>0</td>\n",
       "      <td>0</td>\n",
       "      <td>0</td>\n",
       "      <td>...</td>\n",
       "      <td>0</td>\n",
       "      <td>0</td>\n",
       "      <td>0</td>\n",
       "      <td>0</td>\n",
       "      <td>0</td>\n",
       "      <td>1</td>\n",
       "      <td>0</td>\n",
       "      <td>0</td>\n",
       "      <td>0</td>\n",
       "      <td>0</td>\n",
       "    </tr>\n",
       "    <tr>\n",
       "      <th>29</th>\n",
       "      <td>0</td>\n",
       "      <td>1</td>\n",
       "      <td>0</td>\n",
       "      <td>0</td>\n",
       "      <td>0</td>\n",
       "      <td>0</td>\n",
       "      <td>0</td>\n",
       "      <td>0</td>\n",
       "      <td>0</td>\n",
       "      <td>0</td>\n",
       "      <td>...</td>\n",
       "      <td>0</td>\n",
       "      <td>0</td>\n",
       "      <td>0</td>\n",
       "      <td>0</td>\n",
       "      <td>0</td>\n",
       "      <td>0</td>\n",
       "      <td>1</td>\n",
       "      <td>0</td>\n",
       "      <td>0</td>\n",
       "      <td>0</td>\n",
       "    </tr>\n",
       "    <tr>\n",
       "      <th>30</th>\n",
       "      <td>0</td>\n",
       "      <td>1</td>\n",
       "      <td>0</td>\n",
       "      <td>0</td>\n",
       "      <td>0</td>\n",
       "      <td>0</td>\n",
       "      <td>0</td>\n",
       "      <td>0</td>\n",
       "      <td>0</td>\n",
       "      <td>0</td>\n",
       "      <td>...</td>\n",
       "      <td>0</td>\n",
       "      <td>0</td>\n",
       "      <td>0</td>\n",
       "      <td>0</td>\n",
       "      <td>0</td>\n",
       "      <td>1</td>\n",
       "      <td>0</td>\n",
       "      <td>0</td>\n",
       "      <td>0</td>\n",
       "      <td>0</td>\n",
       "    </tr>\n",
       "    <tr>\n",
       "      <th>31</th>\n",
       "      <td>0</td>\n",
       "      <td>1</td>\n",
       "      <td>0</td>\n",
       "      <td>0</td>\n",
       "      <td>0</td>\n",
       "      <td>0</td>\n",
       "      <td>0</td>\n",
       "      <td>0</td>\n",
       "      <td>0</td>\n",
       "      <td>0</td>\n",
       "      <td>...</td>\n",
       "      <td>0</td>\n",
       "      <td>0</td>\n",
       "      <td>0</td>\n",
       "      <td>0</td>\n",
       "      <td>0</td>\n",
       "      <td>0</td>\n",
       "      <td>1</td>\n",
       "      <td>0</td>\n",
       "      <td>0</td>\n",
       "      <td>0</td>\n",
       "    </tr>\n",
       "    <tr>\n",
       "      <th>32</th>\n",
       "      <td>0</td>\n",
       "      <td>1</td>\n",
       "      <td>0</td>\n",
       "      <td>0</td>\n",
       "      <td>0</td>\n",
       "      <td>0</td>\n",
       "      <td>0</td>\n",
       "      <td>0</td>\n",
       "      <td>0</td>\n",
       "      <td>0</td>\n",
       "      <td>...</td>\n",
       "      <td>0</td>\n",
       "      <td>0</td>\n",
       "      <td>0</td>\n",
       "      <td>0</td>\n",
       "      <td>0</td>\n",
       "      <td>1</td>\n",
       "      <td>0</td>\n",
       "      <td>0</td>\n",
       "      <td>0</td>\n",
       "      <td>0</td>\n",
       "    </tr>\n",
       "    <tr>\n",
       "      <th>33</th>\n",
       "      <td>0</td>\n",
       "      <td>1</td>\n",
       "      <td>0</td>\n",
       "      <td>0</td>\n",
       "      <td>0</td>\n",
       "      <td>0</td>\n",
       "      <td>0</td>\n",
       "      <td>0</td>\n",
       "      <td>0</td>\n",
       "      <td>0</td>\n",
       "      <td>...</td>\n",
       "      <td>0</td>\n",
       "      <td>0</td>\n",
       "      <td>0</td>\n",
       "      <td>0</td>\n",
       "      <td>0</td>\n",
       "      <td>0</td>\n",
       "      <td>1</td>\n",
       "      <td>0</td>\n",
       "      <td>0</td>\n",
       "      <td>0</td>\n",
       "    </tr>\n",
       "    <tr>\n",
       "      <th>...</th>\n",
       "      <td>...</td>\n",
       "      <td>...</td>\n",
       "      <td>...</td>\n",
       "      <td>...</td>\n",
       "      <td>...</td>\n",
       "      <td>...</td>\n",
       "      <td>...</td>\n",
       "      <td>...</td>\n",
       "      <td>...</td>\n",
       "      <td>...</td>\n",
       "      <td>...</td>\n",
       "      <td>...</td>\n",
       "      <td>...</td>\n",
       "      <td>...</td>\n",
       "      <td>...</td>\n",
       "      <td>...</td>\n",
       "      <td>...</td>\n",
       "      <td>...</td>\n",
       "      <td>...</td>\n",
       "      <td>...</td>\n",
       "      <td>...</td>\n",
       "    </tr>\n",
       "    <tr>\n",
       "      <th>175592</th>\n",
       "      <td>0</td>\n",
       "      <td>0</td>\n",
       "      <td>0</td>\n",
       "      <td>0</td>\n",
       "      <td>0</td>\n",
       "      <td>0</td>\n",
       "      <td>0</td>\n",
       "      <td>0</td>\n",
       "      <td>0</td>\n",
       "      <td>1</td>\n",
       "      <td>...</td>\n",
       "      <td>0</td>\n",
       "      <td>0</td>\n",
       "      <td>0</td>\n",
       "      <td>0</td>\n",
       "      <td>0</td>\n",
       "      <td>0</td>\n",
       "      <td>0</td>\n",
       "      <td>0</td>\n",
       "      <td>1</td>\n",
       "      <td>0</td>\n",
       "    </tr>\n",
       "    <tr>\n",
       "      <th>175593</th>\n",
       "      <td>0</td>\n",
       "      <td>0</td>\n",
       "      <td>0</td>\n",
       "      <td>0</td>\n",
       "      <td>0</td>\n",
       "      <td>0</td>\n",
       "      <td>0</td>\n",
       "      <td>0</td>\n",
       "      <td>0</td>\n",
       "      <td>1</td>\n",
       "      <td>...</td>\n",
       "      <td>0</td>\n",
       "      <td>0</td>\n",
       "      <td>0</td>\n",
       "      <td>0</td>\n",
       "      <td>0</td>\n",
       "      <td>0</td>\n",
       "      <td>0</td>\n",
       "      <td>0</td>\n",
       "      <td>1</td>\n",
       "      <td>0</td>\n",
       "    </tr>\n",
       "    <tr>\n",
       "      <th>175594</th>\n",
       "      <td>0</td>\n",
       "      <td>0</td>\n",
       "      <td>0</td>\n",
       "      <td>0</td>\n",
       "      <td>0</td>\n",
       "      <td>0</td>\n",
       "      <td>0</td>\n",
       "      <td>0</td>\n",
       "      <td>0</td>\n",
       "      <td>1</td>\n",
       "      <td>...</td>\n",
       "      <td>0</td>\n",
       "      <td>0</td>\n",
       "      <td>0</td>\n",
       "      <td>0</td>\n",
       "      <td>0</td>\n",
       "      <td>0</td>\n",
       "      <td>0</td>\n",
       "      <td>0</td>\n",
       "      <td>1</td>\n",
       "      <td>0</td>\n",
       "    </tr>\n",
       "    <tr>\n",
       "      <th>175595</th>\n",
       "      <td>0</td>\n",
       "      <td>0</td>\n",
       "      <td>0</td>\n",
       "      <td>0</td>\n",
       "      <td>0</td>\n",
       "      <td>0</td>\n",
       "      <td>0</td>\n",
       "      <td>0</td>\n",
       "      <td>0</td>\n",
       "      <td>1</td>\n",
       "      <td>...</td>\n",
       "      <td>0</td>\n",
       "      <td>0</td>\n",
       "      <td>0</td>\n",
       "      <td>0</td>\n",
       "      <td>0</td>\n",
       "      <td>0</td>\n",
       "      <td>0</td>\n",
       "      <td>0</td>\n",
       "      <td>1</td>\n",
       "      <td>0</td>\n",
       "    </tr>\n",
       "    <tr>\n",
       "      <th>175596</th>\n",
       "      <td>0</td>\n",
       "      <td>0</td>\n",
       "      <td>0</td>\n",
       "      <td>0</td>\n",
       "      <td>0</td>\n",
       "      <td>0</td>\n",
       "      <td>0</td>\n",
       "      <td>0</td>\n",
       "      <td>0</td>\n",
       "      <td>1</td>\n",
       "      <td>...</td>\n",
       "      <td>0</td>\n",
       "      <td>0</td>\n",
       "      <td>0</td>\n",
       "      <td>0</td>\n",
       "      <td>0</td>\n",
       "      <td>0</td>\n",
       "      <td>0</td>\n",
       "      <td>0</td>\n",
       "      <td>1</td>\n",
       "      <td>0</td>\n",
       "    </tr>\n",
       "    <tr>\n",
       "      <th>175597</th>\n",
       "      <td>0</td>\n",
       "      <td>0</td>\n",
       "      <td>0</td>\n",
       "      <td>0</td>\n",
       "      <td>0</td>\n",
       "      <td>0</td>\n",
       "      <td>0</td>\n",
       "      <td>0</td>\n",
       "      <td>0</td>\n",
       "      <td>1</td>\n",
       "      <td>...</td>\n",
       "      <td>0</td>\n",
       "      <td>0</td>\n",
       "      <td>0</td>\n",
       "      <td>0</td>\n",
       "      <td>0</td>\n",
       "      <td>0</td>\n",
       "      <td>0</td>\n",
       "      <td>0</td>\n",
       "      <td>1</td>\n",
       "      <td>0</td>\n",
       "    </tr>\n",
       "    <tr>\n",
       "      <th>175601</th>\n",
       "      <td>0</td>\n",
       "      <td>0</td>\n",
       "      <td>0</td>\n",
       "      <td>0</td>\n",
       "      <td>0</td>\n",
       "      <td>0</td>\n",
       "      <td>0</td>\n",
       "      <td>0</td>\n",
       "      <td>0</td>\n",
       "      <td>1</td>\n",
       "      <td>...</td>\n",
       "      <td>0</td>\n",
       "      <td>0</td>\n",
       "      <td>0</td>\n",
       "      <td>0</td>\n",
       "      <td>0</td>\n",
       "      <td>0</td>\n",
       "      <td>0</td>\n",
       "      <td>0</td>\n",
       "      <td>1</td>\n",
       "      <td>0</td>\n",
       "    </tr>\n",
       "    <tr>\n",
       "      <th>175602</th>\n",
       "      <td>0</td>\n",
       "      <td>0</td>\n",
       "      <td>0</td>\n",
       "      <td>0</td>\n",
       "      <td>0</td>\n",
       "      <td>0</td>\n",
       "      <td>0</td>\n",
       "      <td>0</td>\n",
       "      <td>0</td>\n",
       "      <td>1</td>\n",
       "      <td>...</td>\n",
       "      <td>0</td>\n",
       "      <td>0</td>\n",
       "      <td>0</td>\n",
       "      <td>0</td>\n",
       "      <td>0</td>\n",
       "      <td>0</td>\n",
       "      <td>0</td>\n",
       "      <td>0</td>\n",
       "      <td>1</td>\n",
       "      <td>0</td>\n",
       "    </tr>\n",
       "    <tr>\n",
       "      <th>175603</th>\n",
       "      <td>0</td>\n",
       "      <td>0</td>\n",
       "      <td>0</td>\n",
       "      <td>0</td>\n",
       "      <td>0</td>\n",
       "      <td>0</td>\n",
       "      <td>0</td>\n",
       "      <td>0</td>\n",
       "      <td>0</td>\n",
       "      <td>1</td>\n",
       "      <td>...</td>\n",
       "      <td>0</td>\n",
       "      <td>0</td>\n",
       "      <td>0</td>\n",
       "      <td>0</td>\n",
       "      <td>0</td>\n",
       "      <td>0</td>\n",
       "      <td>0</td>\n",
       "      <td>0</td>\n",
       "      <td>1</td>\n",
       "      <td>0</td>\n",
       "    </tr>\n",
       "    <tr>\n",
       "      <th>175604</th>\n",
       "      <td>0</td>\n",
       "      <td>0</td>\n",
       "      <td>0</td>\n",
       "      <td>0</td>\n",
       "      <td>0</td>\n",
       "      <td>0</td>\n",
       "      <td>0</td>\n",
       "      <td>0</td>\n",
       "      <td>0</td>\n",
       "      <td>1</td>\n",
       "      <td>...</td>\n",
       "      <td>0</td>\n",
       "      <td>0</td>\n",
       "      <td>0</td>\n",
       "      <td>0</td>\n",
       "      <td>0</td>\n",
       "      <td>0</td>\n",
       "      <td>0</td>\n",
       "      <td>0</td>\n",
       "      <td>1</td>\n",
       "      <td>0</td>\n",
       "    </tr>\n",
       "    <tr>\n",
       "      <th>175605</th>\n",
       "      <td>0</td>\n",
       "      <td>0</td>\n",
       "      <td>0</td>\n",
       "      <td>0</td>\n",
       "      <td>0</td>\n",
       "      <td>0</td>\n",
       "      <td>0</td>\n",
       "      <td>0</td>\n",
       "      <td>0</td>\n",
       "      <td>1</td>\n",
       "      <td>...</td>\n",
       "      <td>0</td>\n",
       "      <td>0</td>\n",
       "      <td>0</td>\n",
       "      <td>0</td>\n",
       "      <td>0</td>\n",
       "      <td>0</td>\n",
       "      <td>0</td>\n",
       "      <td>0</td>\n",
       "      <td>1</td>\n",
       "      <td>0</td>\n",
       "    </tr>\n",
       "    <tr>\n",
       "      <th>175606</th>\n",
       "      <td>0</td>\n",
       "      <td>0</td>\n",
       "      <td>0</td>\n",
       "      <td>0</td>\n",
       "      <td>0</td>\n",
       "      <td>0</td>\n",
       "      <td>0</td>\n",
       "      <td>0</td>\n",
       "      <td>0</td>\n",
       "      <td>1</td>\n",
       "      <td>...</td>\n",
       "      <td>0</td>\n",
       "      <td>0</td>\n",
       "      <td>0</td>\n",
       "      <td>0</td>\n",
       "      <td>0</td>\n",
       "      <td>0</td>\n",
       "      <td>0</td>\n",
       "      <td>0</td>\n",
       "      <td>1</td>\n",
       "      <td>0</td>\n",
       "    </tr>\n",
       "    <tr>\n",
       "      <th>175607</th>\n",
       "      <td>0</td>\n",
       "      <td>0</td>\n",
       "      <td>0</td>\n",
       "      <td>0</td>\n",
       "      <td>0</td>\n",
       "      <td>0</td>\n",
       "      <td>0</td>\n",
       "      <td>0</td>\n",
       "      <td>0</td>\n",
       "      <td>1</td>\n",
       "      <td>...</td>\n",
       "      <td>0</td>\n",
       "      <td>0</td>\n",
       "      <td>0</td>\n",
       "      <td>0</td>\n",
       "      <td>0</td>\n",
       "      <td>0</td>\n",
       "      <td>0</td>\n",
       "      <td>0</td>\n",
       "      <td>1</td>\n",
       "      <td>0</td>\n",
       "    </tr>\n",
       "    <tr>\n",
       "      <th>175608</th>\n",
       "      <td>0</td>\n",
       "      <td>0</td>\n",
       "      <td>0</td>\n",
       "      <td>0</td>\n",
       "      <td>0</td>\n",
       "      <td>0</td>\n",
       "      <td>0</td>\n",
       "      <td>0</td>\n",
       "      <td>0</td>\n",
       "      <td>1</td>\n",
       "      <td>...</td>\n",
       "      <td>0</td>\n",
       "      <td>0</td>\n",
       "      <td>0</td>\n",
       "      <td>0</td>\n",
       "      <td>0</td>\n",
       "      <td>0</td>\n",
       "      <td>0</td>\n",
       "      <td>0</td>\n",
       "      <td>1</td>\n",
       "      <td>0</td>\n",
       "    </tr>\n",
       "    <tr>\n",
       "      <th>175609</th>\n",
       "      <td>0</td>\n",
       "      <td>0</td>\n",
       "      <td>0</td>\n",
       "      <td>0</td>\n",
       "      <td>0</td>\n",
       "      <td>0</td>\n",
       "      <td>0</td>\n",
       "      <td>0</td>\n",
       "      <td>0</td>\n",
       "      <td>1</td>\n",
       "      <td>...</td>\n",
       "      <td>0</td>\n",
       "      <td>0</td>\n",
       "      <td>0</td>\n",
       "      <td>0</td>\n",
       "      <td>0</td>\n",
       "      <td>0</td>\n",
       "      <td>0</td>\n",
       "      <td>0</td>\n",
       "      <td>1</td>\n",
       "      <td>0</td>\n",
       "    </tr>\n",
       "    <tr>\n",
       "      <th>175610</th>\n",
       "      <td>0</td>\n",
       "      <td>0</td>\n",
       "      <td>0</td>\n",
       "      <td>0</td>\n",
       "      <td>0</td>\n",
       "      <td>0</td>\n",
       "      <td>0</td>\n",
       "      <td>0</td>\n",
       "      <td>0</td>\n",
       "      <td>1</td>\n",
       "      <td>...</td>\n",
       "      <td>0</td>\n",
       "      <td>0</td>\n",
       "      <td>0</td>\n",
       "      <td>0</td>\n",
       "      <td>0</td>\n",
       "      <td>0</td>\n",
       "      <td>0</td>\n",
       "      <td>0</td>\n",
       "      <td>1</td>\n",
       "      <td>0</td>\n",
       "    </tr>\n",
       "    <tr>\n",
       "      <th>175611</th>\n",
       "      <td>0</td>\n",
       "      <td>0</td>\n",
       "      <td>0</td>\n",
       "      <td>0</td>\n",
       "      <td>0</td>\n",
       "      <td>0</td>\n",
       "      <td>0</td>\n",
       "      <td>0</td>\n",
       "      <td>0</td>\n",
       "      <td>1</td>\n",
       "      <td>...</td>\n",
       "      <td>0</td>\n",
       "      <td>0</td>\n",
       "      <td>0</td>\n",
       "      <td>0</td>\n",
       "      <td>0</td>\n",
       "      <td>0</td>\n",
       "      <td>0</td>\n",
       "      <td>0</td>\n",
       "      <td>1</td>\n",
       "      <td>0</td>\n",
       "    </tr>\n",
       "    <tr>\n",
       "      <th>175612</th>\n",
       "      <td>0</td>\n",
       "      <td>0</td>\n",
       "      <td>0</td>\n",
       "      <td>0</td>\n",
       "      <td>0</td>\n",
       "      <td>0</td>\n",
       "      <td>0</td>\n",
       "      <td>0</td>\n",
       "      <td>0</td>\n",
       "      <td>1</td>\n",
       "      <td>...</td>\n",
       "      <td>0</td>\n",
       "      <td>0</td>\n",
       "      <td>0</td>\n",
       "      <td>0</td>\n",
       "      <td>0</td>\n",
       "      <td>0</td>\n",
       "      <td>0</td>\n",
       "      <td>0</td>\n",
       "      <td>1</td>\n",
       "      <td>0</td>\n",
       "    </tr>\n",
       "    <tr>\n",
       "      <th>175613</th>\n",
       "      <td>0</td>\n",
       "      <td>0</td>\n",
       "      <td>0</td>\n",
       "      <td>0</td>\n",
       "      <td>0</td>\n",
       "      <td>0</td>\n",
       "      <td>0</td>\n",
       "      <td>0</td>\n",
       "      <td>0</td>\n",
       "      <td>1</td>\n",
       "      <td>...</td>\n",
       "      <td>0</td>\n",
       "      <td>0</td>\n",
       "      <td>0</td>\n",
       "      <td>0</td>\n",
       "      <td>0</td>\n",
       "      <td>0</td>\n",
       "      <td>0</td>\n",
       "      <td>0</td>\n",
       "      <td>1</td>\n",
       "      <td>0</td>\n",
       "    </tr>\n",
       "    <tr>\n",
       "      <th>175614</th>\n",
       "      <td>0</td>\n",
       "      <td>0</td>\n",
       "      <td>0</td>\n",
       "      <td>0</td>\n",
       "      <td>0</td>\n",
       "      <td>0</td>\n",
       "      <td>0</td>\n",
       "      <td>0</td>\n",
       "      <td>0</td>\n",
       "      <td>1</td>\n",
       "      <td>...</td>\n",
       "      <td>0</td>\n",
       "      <td>0</td>\n",
       "      <td>0</td>\n",
       "      <td>0</td>\n",
       "      <td>0</td>\n",
       "      <td>0</td>\n",
       "      <td>0</td>\n",
       "      <td>0</td>\n",
       "      <td>1</td>\n",
       "      <td>0</td>\n",
       "    </tr>\n",
       "    <tr>\n",
       "      <th>175615</th>\n",
       "      <td>0</td>\n",
       "      <td>0</td>\n",
       "      <td>0</td>\n",
       "      <td>0</td>\n",
       "      <td>0</td>\n",
       "      <td>0</td>\n",
       "      <td>0</td>\n",
       "      <td>0</td>\n",
       "      <td>0</td>\n",
       "      <td>1</td>\n",
       "      <td>...</td>\n",
       "      <td>0</td>\n",
       "      <td>0</td>\n",
       "      <td>0</td>\n",
       "      <td>0</td>\n",
       "      <td>0</td>\n",
       "      <td>0</td>\n",
       "      <td>0</td>\n",
       "      <td>0</td>\n",
       "      <td>1</td>\n",
       "      <td>0</td>\n",
       "    </tr>\n",
       "    <tr>\n",
       "      <th>175616</th>\n",
       "      <td>0</td>\n",
       "      <td>0</td>\n",
       "      <td>0</td>\n",
       "      <td>0</td>\n",
       "      <td>0</td>\n",
       "      <td>0</td>\n",
       "      <td>0</td>\n",
       "      <td>0</td>\n",
       "      <td>0</td>\n",
       "      <td>1</td>\n",
       "      <td>...</td>\n",
       "      <td>0</td>\n",
       "      <td>0</td>\n",
       "      <td>0</td>\n",
       "      <td>0</td>\n",
       "      <td>0</td>\n",
       "      <td>0</td>\n",
       "      <td>0</td>\n",
       "      <td>0</td>\n",
       "      <td>1</td>\n",
       "      <td>0</td>\n",
       "    </tr>\n",
       "    <tr>\n",
       "      <th>175620</th>\n",
       "      <td>0</td>\n",
       "      <td>0</td>\n",
       "      <td>0</td>\n",
       "      <td>0</td>\n",
       "      <td>0</td>\n",
       "      <td>0</td>\n",
       "      <td>0</td>\n",
       "      <td>0</td>\n",
       "      <td>0</td>\n",
       "      <td>1</td>\n",
       "      <td>...</td>\n",
       "      <td>0</td>\n",
       "      <td>0</td>\n",
       "      <td>0</td>\n",
       "      <td>0</td>\n",
       "      <td>0</td>\n",
       "      <td>0</td>\n",
       "      <td>0</td>\n",
       "      <td>0</td>\n",
       "      <td>1</td>\n",
       "      <td>0</td>\n",
       "    </tr>\n",
       "    <tr>\n",
       "      <th>175621</th>\n",
       "      <td>0</td>\n",
       "      <td>0</td>\n",
       "      <td>0</td>\n",
       "      <td>0</td>\n",
       "      <td>0</td>\n",
       "      <td>0</td>\n",
       "      <td>0</td>\n",
       "      <td>0</td>\n",
       "      <td>0</td>\n",
       "      <td>1</td>\n",
       "      <td>...</td>\n",
       "      <td>0</td>\n",
       "      <td>0</td>\n",
       "      <td>0</td>\n",
       "      <td>0</td>\n",
       "      <td>0</td>\n",
       "      <td>0</td>\n",
       "      <td>0</td>\n",
       "      <td>0</td>\n",
       "      <td>1</td>\n",
       "      <td>0</td>\n",
       "    </tr>\n",
       "    <tr>\n",
       "      <th>175622</th>\n",
       "      <td>0</td>\n",
       "      <td>0</td>\n",
       "      <td>0</td>\n",
       "      <td>0</td>\n",
       "      <td>0</td>\n",
       "      <td>0</td>\n",
       "      <td>0</td>\n",
       "      <td>0</td>\n",
       "      <td>0</td>\n",
       "      <td>1</td>\n",
       "      <td>...</td>\n",
       "      <td>0</td>\n",
       "      <td>0</td>\n",
       "      <td>0</td>\n",
       "      <td>0</td>\n",
       "      <td>0</td>\n",
       "      <td>0</td>\n",
       "      <td>0</td>\n",
       "      <td>0</td>\n",
       "      <td>1</td>\n",
       "      <td>0</td>\n",
       "    </tr>\n",
       "    <tr>\n",
       "      <th>175623</th>\n",
       "      <td>0</td>\n",
       "      <td>0</td>\n",
       "      <td>0</td>\n",
       "      <td>0</td>\n",
       "      <td>0</td>\n",
       "      <td>0</td>\n",
       "      <td>0</td>\n",
       "      <td>0</td>\n",
       "      <td>0</td>\n",
       "      <td>1</td>\n",
       "      <td>...</td>\n",
       "      <td>0</td>\n",
       "      <td>0</td>\n",
       "      <td>0</td>\n",
       "      <td>0</td>\n",
       "      <td>0</td>\n",
       "      <td>0</td>\n",
       "      <td>0</td>\n",
       "      <td>0</td>\n",
       "      <td>1</td>\n",
       "      <td>0</td>\n",
       "    </tr>\n",
       "    <tr>\n",
       "      <th>175624</th>\n",
       "      <td>0</td>\n",
       "      <td>0</td>\n",
       "      <td>0</td>\n",
       "      <td>0</td>\n",
       "      <td>0</td>\n",
       "      <td>0</td>\n",
       "      <td>0</td>\n",
       "      <td>0</td>\n",
       "      <td>0</td>\n",
       "      <td>1</td>\n",
       "      <td>...</td>\n",
       "      <td>0</td>\n",
       "      <td>0</td>\n",
       "      <td>0</td>\n",
       "      <td>0</td>\n",
       "      <td>0</td>\n",
       "      <td>0</td>\n",
       "      <td>0</td>\n",
       "      <td>0</td>\n",
       "      <td>1</td>\n",
       "      <td>0</td>\n",
       "    </tr>\n",
       "    <tr>\n",
       "      <th>175625</th>\n",
       "      <td>0</td>\n",
       "      <td>0</td>\n",
       "      <td>0</td>\n",
       "      <td>0</td>\n",
       "      <td>0</td>\n",
       "      <td>0</td>\n",
       "      <td>0</td>\n",
       "      <td>0</td>\n",
       "      <td>0</td>\n",
       "      <td>1</td>\n",
       "      <td>...</td>\n",
       "      <td>0</td>\n",
       "      <td>0</td>\n",
       "      <td>0</td>\n",
       "      <td>0</td>\n",
       "      <td>0</td>\n",
       "      <td>0</td>\n",
       "      <td>0</td>\n",
       "      <td>0</td>\n",
       "      <td>1</td>\n",
       "      <td>0</td>\n",
       "    </tr>\n",
       "    <tr>\n",
       "      <th>175626</th>\n",
       "      <td>0</td>\n",
       "      <td>0</td>\n",
       "      <td>0</td>\n",
       "      <td>0</td>\n",
       "      <td>0</td>\n",
       "      <td>0</td>\n",
       "      <td>0</td>\n",
       "      <td>0</td>\n",
       "      <td>0</td>\n",
       "      <td>1</td>\n",
       "      <td>...</td>\n",
       "      <td>0</td>\n",
       "      <td>0</td>\n",
       "      <td>0</td>\n",
       "      <td>0</td>\n",
       "      <td>0</td>\n",
       "      <td>0</td>\n",
       "      <td>0</td>\n",
       "      <td>0</td>\n",
       "      <td>1</td>\n",
       "      <td>0</td>\n",
       "    </tr>\n",
       "    <tr>\n",
       "      <th>175627</th>\n",
       "      <td>0</td>\n",
       "      <td>0</td>\n",
       "      <td>0</td>\n",
       "      <td>0</td>\n",
       "      <td>0</td>\n",
       "      <td>0</td>\n",
       "      <td>0</td>\n",
       "      <td>0</td>\n",
       "      <td>0</td>\n",
       "      <td>1</td>\n",
       "      <td>...</td>\n",
       "      <td>0</td>\n",
       "      <td>0</td>\n",
       "      <td>0</td>\n",
       "      <td>0</td>\n",
       "      <td>0</td>\n",
       "      <td>0</td>\n",
       "      <td>0</td>\n",
       "      <td>0</td>\n",
       "      <td>1</td>\n",
       "      <td>0</td>\n",
       "    </tr>\n",
       "  </tbody>\n",
       "</table>\n",
       "<p>156022 rows × 734 columns</p>\n",
       "</div>"
      ],
      "text/plain": [
       "        state_A & N ISLANDS  state_ANDHRA PRADESH  state_ARUNACHAL PRADESH  \\\n",
       "0                         0                     1                        0   \n",
       "1                         0                     1                        0   \n",
       "2                         0                     1                        0   \n",
       "3                         0                     1                        0   \n",
       "4                         0                     1                        0   \n",
       "5                         0                     1                        0   \n",
       "6                         0                     1                        0   \n",
       "7                         0                     1                        0   \n",
       "8                         0                     1                        0   \n",
       "9                         0                     1                        0   \n",
       "10                        0                     1                        0   \n",
       "11                        0                     1                        0   \n",
       "12                        0                     1                        0   \n",
       "13                        0                     1                        0   \n",
       "14                        0                     1                        0   \n",
       "15                        0                     1                        0   \n",
       "16                        0                     1                        0   \n",
       "17                        0                     1                        0   \n",
       "18                        0                     1                        0   \n",
       "19                        0                     1                        0   \n",
       "20                        0                     1                        0   \n",
       "21                        0                     1                        0   \n",
       "22                        0                     1                        0   \n",
       "23                        0                     1                        0   \n",
       "28                        0                     1                        0   \n",
       "29                        0                     1                        0   \n",
       "30                        0                     1                        0   \n",
       "31                        0                     1                        0   \n",
       "32                        0                     1                        0   \n",
       "33                        0                     1                        0   \n",
       "...                     ...                   ...                      ...   \n",
       "175592                    0                     0                        0   \n",
       "175593                    0                     0                        0   \n",
       "175594                    0                     0                        0   \n",
       "175595                    0                     0                        0   \n",
       "175596                    0                     0                        0   \n",
       "175597                    0                     0                        0   \n",
       "175601                    0                     0                        0   \n",
       "175602                    0                     0                        0   \n",
       "175603                    0                     0                        0   \n",
       "175604                    0                     0                        0   \n",
       "175605                    0                     0                        0   \n",
       "175606                    0                     0                        0   \n",
       "175607                    0                     0                        0   \n",
       "175608                    0                     0                        0   \n",
       "175609                    0                     0                        0   \n",
       "175610                    0                     0                        0   \n",
       "175611                    0                     0                        0   \n",
       "175612                    0                     0                        0   \n",
       "175613                    0                     0                        0   \n",
       "175614                    0                     0                        0   \n",
       "175615                    0                     0                        0   \n",
       "175616                    0                     0                        0   \n",
       "175620                    0                     0                        0   \n",
       "175621                    0                     0                        0   \n",
       "175622                    0                     0                        0   \n",
       "175623                    0                     0                        0   \n",
       "175624                    0                     0                        0   \n",
       "175625                    0                     0                        0   \n",
       "175626                    0                     0                        0   \n",
       "175627                    0                     0                        0   \n",
       "\n",
       "        state_ASSAM  state_BIHAR  state_CHANDIGARH  state_CHHATTISGARH  \\\n",
       "0                 0            0                 0                   0   \n",
       "1                 0            0                 0                   0   \n",
       "2                 0            0                 0                   0   \n",
       "3                 0            0                 0                   0   \n",
       "4                 0            0                 0                   0   \n",
       "5                 0            0                 0                   0   \n",
       "6                 0            0                 0                   0   \n",
       "7                 0            0                 0                   0   \n",
       "8                 0            0                 0                   0   \n",
       "9                 0            0                 0                   0   \n",
       "10                0            0                 0                   0   \n",
       "11                0            0                 0                   0   \n",
       "12                0            0                 0                   0   \n",
       "13                0            0                 0                   0   \n",
       "14                0            0                 0                   0   \n",
       "15                0            0                 0                   0   \n",
       "16                0            0                 0                   0   \n",
       "17                0            0                 0                   0   \n",
       "18                0            0                 0                   0   \n",
       "19                0            0                 0                   0   \n",
       "20                0            0                 0                   0   \n",
       "21                0            0                 0                   0   \n",
       "22                0            0                 0                   0   \n",
       "23                0            0                 0                   0   \n",
       "28                0            0                 0                   0   \n",
       "29                0            0                 0                   0   \n",
       "30                0            0                 0                   0   \n",
       "31                0            0                 0                   0   \n",
       "32                0            0                 0                   0   \n",
       "33                0            0                 0                   0   \n",
       "...             ...          ...               ...                 ...   \n",
       "175592            0            0                 0                   0   \n",
       "175593            0            0                 0                   0   \n",
       "175594            0            0                 0                   0   \n",
       "175595            0            0                 0                   0   \n",
       "175596            0            0                 0                   0   \n",
       "175597            0            0                 0                   0   \n",
       "175601            0            0                 0                   0   \n",
       "175602            0            0                 0                   0   \n",
       "175603            0            0                 0                   0   \n",
       "175604            0            0                 0                   0   \n",
       "175605            0            0                 0                   0   \n",
       "175606            0            0                 0                   0   \n",
       "175607            0            0                 0                   0   \n",
       "175608            0            0                 0                   0   \n",
       "175609            0            0                 0                   0   \n",
       "175610            0            0                 0                   0   \n",
       "175611            0            0                 0                   0   \n",
       "175612            0            0                 0                   0   \n",
       "175613            0            0                 0                   0   \n",
       "175614            0            0                 0                   0   \n",
       "175615            0            0                 0                   0   \n",
       "175616            0            0                 0                   0   \n",
       "175620            0            0                 0                   0   \n",
       "175621            0            0                 0                   0   \n",
       "175622            0            0                 0                   0   \n",
       "175623            0            0                 0                   0   \n",
       "175624            0            0                 0                   0   \n",
       "175625            0            0                 0                   0   \n",
       "175626            0            0                 0                   0   \n",
       "175627            0            0                 0                   0   \n",
       "\n",
       "        state_D & N HAVELI  state_DELHI  state_GOA      ...        \\\n",
       "0                        0            0          0      ...         \n",
       "1                        0            0          0      ...         \n",
       "2                        0            0          0      ...         \n",
       "3                        0            0          0      ...         \n",
       "4                        0            0          0      ...         \n",
       "5                        0            0          0      ...         \n",
       "6                        0            0          0      ...         \n",
       "7                        0            0          0      ...         \n",
       "8                        0            0          0      ...         \n",
       "9                        0            0          0      ...         \n",
       "10                       0            0          0      ...         \n",
       "11                       0            0          0      ...         \n",
       "12                       0            0          0      ...         \n",
       "13                       0            0          0      ...         \n",
       "14                       0            0          0      ...         \n",
       "15                       0            0          0      ...         \n",
       "16                       0            0          0      ...         \n",
       "17                       0            0          0      ...         \n",
       "18                       0            0          0      ...         \n",
       "19                       0            0          0      ...         \n",
       "20                       0            0          0      ...         \n",
       "21                       0            0          0      ...         \n",
       "22                       0            0          0      ...         \n",
       "23                       0            0          0      ...         \n",
       "28                       0            0          0      ...         \n",
       "29                       0            0          0      ...         \n",
       "30                       0            0          0      ...         \n",
       "31                       0            0          0      ...         \n",
       "32                       0            0          0      ...         \n",
       "33                       0            0          0      ...         \n",
       "...                    ...          ...        ...      ...         \n",
       "175592                   0            0          1      ...         \n",
       "175593                   0            0          1      ...         \n",
       "175594                   0            0          1      ...         \n",
       "175595                   0            0          1      ...         \n",
       "175596                   0            0          1      ...         \n",
       "175597                   0            0          1      ...         \n",
       "175601                   0            0          1      ...         \n",
       "175602                   0            0          1      ...         \n",
       "175603                   0            0          1      ...         \n",
       "175604                   0            0          1      ...         \n",
       "175605                   0            0          1      ...         \n",
       "175606                   0            0          1      ...         \n",
       "175607                   0            0          1      ...         \n",
       "175608                   0            0          1      ...         \n",
       "175609                   0            0          1      ...         \n",
       "175610                   0            0          1      ...         \n",
       "175611                   0            0          1      ...         \n",
       "175612                   0            0          1      ...         \n",
       "175613                   0            0          1      ...         \n",
       "175614                   0            0          1      ...         \n",
       "175615                   0            0          1      ...         \n",
       "175616                   0            0          1      ...         \n",
       "175620                   0            0          1      ...         \n",
       "175621                   0            0          1      ...         \n",
       "175622                   0            0          1      ...         \n",
       "175623                   0            0          1      ...         \n",
       "175624                   0            0          1      ...         \n",
       "175625                   0            0          1      ...         \n",
       "175626                   0            0          1      ...         \n",
       "175627                   0            0          1      ...         \n",
       "\n",
       "        crop_Tobacco  crop_Turmeric  crop_Urad  crop_Wheat  season_Autumn  \\\n",
       "0                  0              0          0           0              0   \n",
       "1                  0              0          0           0              0   \n",
       "2                  0              0          0           0              0   \n",
       "3                  0              0          0           0              0   \n",
       "4                  0              0          0           0              0   \n",
       "5                  0              0          0           0              0   \n",
       "6                  0              0          0           0              0   \n",
       "7                  0              0          0           0              0   \n",
       "8                  0              0          0           0              0   \n",
       "9                  0              0          0           0              0   \n",
       "10                 0              0          0           0              0   \n",
       "11                 0              0          0           0              0   \n",
       "12                 0              0          0           0              0   \n",
       "13                 0              0          0           0              0   \n",
       "14                 0              0          0           0              0   \n",
       "15                 0              0          0           0              0   \n",
       "16                 0              0          0           0              0   \n",
       "17                 0              0          0           0              0   \n",
       "18                 0              0          0           0              0   \n",
       "19                 0              0          0           0              0   \n",
       "20                 0              0          0           0              0   \n",
       "21                 0              0          0           0              0   \n",
       "22                 0              0          0           0              0   \n",
       "23                 0              0          0           0              0   \n",
       "28                 0              0          0           0              0   \n",
       "29                 0              0          0           0              0   \n",
       "30                 0              0          0           0              0   \n",
       "31                 0              0          0           0              0   \n",
       "32                 0              0          0           0              0   \n",
       "33                 0              0          0           0              0   \n",
       "...              ...            ...        ...         ...            ...   \n",
       "175592             0              0          0           0              0   \n",
       "175593             0              0          0           0              0   \n",
       "175594             0              0          0           0              0   \n",
       "175595             0              0          0           0              0   \n",
       "175596             0              0          0           0              0   \n",
       "175597             0              0          0           0              0   \n",
       "175601             0              0          0           0              0   \n",
       "175602             0              0          0           0              0   \n",
       "175603             0              0          0           0              0   \n",
       "175604             0              0          0           0              0   \n",
       "175605             0              0          0           0              0   \n",
       "175606             0              0          0           0              0   \n",
       "175607             0              0          0           0              0   \n",
       "175608             0              0          0           0              0   \n",
       "175609             0              0          0           0              0   \n",
       "175610             0              0          0           0              0   \n",
       "175611             0              0          0           0              0   \n",
       "175612             0              0          0           0              0   \n",
       "175613             0              0          0           0              0   \n",
       "175614             0              0          0           0              0   \n",
       "175615             0              0          0           0              0   \n",
       "175616             0              0          0           0              0   \n",
       "175620             0              0          0           0              0   \n",
       "175621             0              0          0           0              0   \n",
       "175622             0              0          0           0              0   \n",
       "175623             0              0          0           0              0   \n",
       "175624             0              0          0           0              0   \n",
       "175625             0              0          0           0              0   \n",
       "175626             0              0          0           0              0   \n",
       "175627             0              0          0           0              0   \n",
       "\n",
       "        season_Kharif  season_Rabi  season_Summer  season_Whole year  \\\n",
       "0                   1            0              0                  0   \n",
       "1                   0            1              0                  0   \n",
       "2                   1            0              0                  0   \n",
       "3                   0            1              0                  0   \n",
       "4                   1            0              0                  0   \n",
       "5                   0            1              0                  0   \n",
       "6                   1            0              0                  0   \n",
       "7                   0            1              0                  0   \n",
       "8                   1            0              0                  0   \n",
       "9                   0            1              0                  0   \n",
       "10                  1            0              0                  0   \n",
       "11                  0            1              0                  0   \n",
       "12                  1            0              0                  0   \n",
       "13                  0            1              0                  0   \n",
       "14                  1            0              0                  0   \n",
       "15                  0            1              0                  0   \n",
       "16                  1            0              0                  0   \n",
       "17                  0            1              0                  0   \n",
       "18                  1            0              0                  0   \n",
       "19                  0            1              0                  0   \n",
       "20                  1            0              0                  0   \n",
       "21                  0            1              0                  0   \n",
       "22                  1            0              0                  0   \n",
       "23                  0            1              0                  0   \n",
       "28                  1            0              0                  0   \n",
       "29                  0            1              0                  0   \n",
       "30                  1            0              0                  0   \n",
       "31                  0            1              0                  0   \n",
       "32                  1            0              0                  0   \n",
       "33                  0            1              0                  0   \n",
       "...               ...          ...            ...                ...   \n",
       "175592              0            0              0                  1   \n",
       "175593              0            0              0                  1   \n",
       "175594              0            0              0                  1   \n",
       "175595              0            0              0                  1   \n",
       "175596              0            0              0                  1   \n",
       "175597              0            0              0                  1   \n",
       "175601              0            0              0                  1   \n",
       "175602              0            0              0                  1   \n",
       "175603              0            0              0                  1   \n",
       "175604              0            0              0                  1   \n",
       "175605              0            0              0                  1   \n",
       "175606              0            0              0                  1   \n",
       "175607              0            0              0                  1   \n",
       "175608              0            0              0                  1   \n",
       "175609              0            0              0                  1   \n",
       "175610              0            0              0                  1   \n",
       "175611              0            0              0                  1   \n",
       "175612              0            0              0                  1   \n",
       "175613              0            0              0                  1   \n",
       "175614              0            0              0                  1   \n",
       "175615              0            0              0                  1   \n",
       "175616              0            0              0                  1   \n",
       "175620              0            0              0                  1   \n",
       "175621              0            0              0                  1   \n",
       "175622              0            0              0                  1   \n",
       "175623              0            0              0                  1   \n",
       "175624              0            0              0                  1   \n",
       "175625              0            0              0                  1   \n",
       "175626              0            0              0                  1   \n",
       "175627              0            0              0                  1   \n",
       "\n",
       "        season_Winter  \n",
       "0                   0  \n",
       "1                   0  \n",
       "2                   0  \n",
       "3                   0  \n",
       "4                   0  \n",
       "5                   0  \n",
       "6                   0  \n",
       "7                   0  \n",
       "8                   0  \n",
       "9                   0  \n",
       "10                  0  \n",
       "11                  0  \n",
       "12                  0  \n",
       "13                  0  \n",
       "14                  0  \n",
       "15                  0  \n",
       "16                  0  \n",
       "17                  0  \n",
       "18                  0  \n",
       "19                  0  \n",
       "20                  0  \n",
       "21                  0  \n",
       "22                  0  \n",
       "23                  0  \n",
       "28                  0  \n",
       "29                  0  \n",
       "30                  0  \n",
       "31                  0  \n",
       "32                  0  \n",
       "33                  0  \n",
       "...               ...  \n",
       "175592              0  \n",
       "175593              0  \n",
       "175594              0  \n",
       "175595              0  \n",
       "175596              0  \n",
       "175597              0  \n",
       "175601              0  \n",
       "175602              0  \n",
       "175603              0  \n",
       "175604              0  \n",
       "175605              0  \n",
       "175606              0  \n",
       "175607              0  \n",
       "175608              0  \n",
       "175609              0  \n",
       "175610              0  \n",
       "175611              0  \n",
       "175612              0  \n",
       "175613              0  \n",
       "175614              0  \n",
       "175615              0  \n",
       "175616              0  \n",
       "175620              0  \n",
       "175621              0  \n",
       "175622              0  \n",
       "175623              0  \n",
       "175624              0  \n",
       "175625              0  \n",
       "175626              0  \n",
       "175627              0  \n",
       "\n",
       "[156022 rows x 734 columns]"
      ]
     },
     "execution_count": 63,
     "metadata": {},
     "output_type": "execute_result"
    }
   ],
   "source": [
    "obj_df = df.select_dtypes(include=['object'])\n",
    "X = pd.get_dummies(obj_df)\n",
    "X"
   ]
  },
  {
   "cell_type": "markdown",
   "metadata": {},
   "source": [
    "### Split data"
   ]
  },
  {
   "cell_type": "code",
   "execution_count": 64,
   "metadata": {},
   "outputs": [],
   "source": [
    "from sklearn.model_selection import train_test_split\n",
    "X_train, X_test, y_train, y_test = train_test_split(X, y, test_size=0.25, random_state=42)"
   ]
  },
  {
   "cell_type": "markdown",
   "metadata": {},
   "source": [
    "## Implementing algorithms"
   ]
  },
  {
   "cell_type": "markdown",
   "metadata": {},
   "source": [
    "### Multiple linear regression"
   ]
  },
  {
   "cell_type": "code",
   "execution_count": 55,
   "metadata": {},
   "outputs": [
    {
     "data": {
      "text/plain": [
       "LinearRegression(copy_X=True, fit_intercept=True, n_jobs=1, normalize=True)"
      ]
     },
     "execution_count": 55,
     "metadata": {},
     "output_type": "execute_result"
    }
   ],
   "source": [
    "from sklearn.linear_model import LinearRegression\n",
    "regressor = LinearRegression(normalize=True)\n",
    "regressor.fit(X_train, y_train)"
   ]
  },
  {
   "cell_type": "code",
   "execution_count": 56,
   "metadata": {},
   "outputs": [],
   "source": [
    "y_pred = regressor.predict(X_test)"
   ]
  },
  {
   "cell_type": "code",
   "execution_count": 57,
   "metadata": {
    "scrolled": true
   },
   "outputs": [
    {
     "name": "stdout",
     "output_type": "stream",
     "text": [
      "0.04585453838322484\n",
      "0.03440209568447972\n"
     ]
    }
   ],
   "source": [
    "print(regressor.score(X_train, y_train))\n",
    "print(regressor.score(X_test, y_test))"
   ]
  },
  {
   "cell_type": "markdown",
   "metadata": {},
   "source": [
    "### Decision Tree Regressor"
   ]
  },
  {
   "cell_type": "code",
   "execution_count": 58,
   "metadata": {},
   "outputs": [
    {
     "data": {
      "text/plain": [
       "DecisionTreeRegressor(criterion='mse', max_depth=None, max_features=None,\n",
       "           max_leaf_nodes=None, min_impurity_decrease=0.0,\n",
       "           min_impurity_split=None, min_samples_leaf=1,\n",
       "           min_samples_split=2, min_weight_fraction_leaf=0.0,\n",
       "           presort=False, random_state=42, splitter='best')"
      ]
     },
     "execution_count": 58,
     "metadata": {},
     "output_type": "execute_result"
    }
   ],
   "source": [
    "from sklearn.tree import DecisionTreeRegressor\n",
    "regressor = DecisionTreeRegressor(random_state=42)\n",
    "regressor.fit(X_train, y_train)"
   ]
  },
  {
   "cell_type": "code",
   "execution_count": 59,
   "metadata": {},
   "outputs": [],
   "source": [
    "y_pred = regressor.predict(X_test)"
   ]
  },
  {
   "cell_type": "code",
   "execution_count": 60,
   "metadata": {},
   "outputs": [
    {
     "name": "stdout",
     "output_type": "stream",
     "text": [
      "0.6160701432496254\n",
      "0.5486858878043204\n"
     ]
    }
   ],
   "source": [
    "print(regressor.score(X_train, y_train))\n",
    "print(regressor.score(X_test, y_test))"
   ]
  },
  {
   "cell_type": "markdown",
   "metadata": {},
   "source": [
    "### Random forest regressor"
   ]
  },
  {
   "cell_type": "code",
   "execution_count": 65,
   "metadata": {
    "scrolled": true
   },
   "outputs": [
    {
     "name": "stderr",
     "output_type": "stream",
     "text": [
      "/home/manasvi/anaconda3/lib/python3.7/site-packages/sklearn/ensemble/weight_boosting.py:29: DeprecationWarning: numpy.core.umath_tests is an internal NumPy module and should not be imported. It will be removed in a future NumPy release.\n",
      "  from numpy.core.umath_tests import inner1d\n"
     ]
    }
   ],
   "source": [
    "from sklearn.ensemble import RandomForestRegressor\n",
    "rf = RandomForestRegressor(n_estimators = 10, random_state = 42)\n",
    "rf.fit(X_train, y_train);"
   ]
  },
  {
   "cell_type": "code",
   "execution_count": 66,
   "metadata": {
    "scrolled": false
   },
   "outputs": [],
   "source": [
    "y_pred = rf.predict(X_test)"
   ]
  },
  {
   "cell_type": "code",
   "execution_count": 67,
   "metadata": {},
   "outputs": [
    {
     "name": "stdout",
     "output_type": "stream",
     "text": [
      "0.9597930600499314\n",
      "0.9890933044869173\n"
     ]
    }
   ],
   "source": [
    "print(rf.score(X_train, y_train))\n",
    "print(rf.score(X_test, y_test))"
   ]
  },
  {
   "cell_type": "code",
   "execution_count": 71,
   "metadata": {},
   "outputs": [
    {
     "name": "stdout",
     "output_type": "stream",
     "text": [
      "[0.98507375 0.94402264 0.95671494]\n"
     ]
    }
   ],
   "source": [
    "from sklearn.cross_validation import cross_val_score\n",
    "import numpy as np\n",
    "print(cross_val_score(rf, X_train, y_train, cv=3))"
   ]
  },
  {
   "cell_type": "code",
   "execution_count": 72,
   "metadata": {},
   "outputs": [
    {
     "name": "stdout",
     "output_type": "stream",
     "text": [
      "[0.99075637 0.9855641  0.94884073 0.88614042 0.95954543]\n"
     ]
    }
   ],
   "source": [
    "from sklearn.cross_validation import cross_val_score\n",
    "import numpy as np\n",
    "print(cross_val_score(rf, X_train, y_train, cv=5))"
   ]
  },
  {
   "cell_type": "code",
   "execution_count": 73,
   "metadata": {},
   "outputs": [
    {
     "name": "stdout",
     "output_type": "stream",
     "text": [
      "0.95412\n"
     ]
    }
   ],
   "source": [
    "print(np.mean([0.9907, 0.9855, 0.9488, 0.8861, 0.9595]))"
   ]
  },
  {
   "cell_type": "markdown",
   "metadata": {},
   "source": [
    "When the train and test scores are not close from one another i.e, the mean test score is significantly lower than the mean train score, it denotes overfitting. But in this case, the train and test scores are close to one another. This indicates that the model is not overfitted."
   ]
  }
 ],
 "metadata": {
  "kernelspec": {
   "display_name": "Python 3",
   "language": "python",
   "name": "python3"
  },
  "language_info": {
   "codemirror_mode": {
    "name": "ipython",
    "version": 3
   },
   "file_extension": ".py",
   "mimetype": "text/x-python",
   "name": "python",
   "nbconvert_exporter": "python",
   "pygments_lexer": "ipython3",
   "version": "3.7.0"
  }
 },
 "nbformat": 4,
 "nbformat_minor": 2
}
